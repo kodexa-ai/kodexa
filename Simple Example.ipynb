{
 "cells": [
  {
   "cell_type": "code",
   "execution_count": 1,
   "metadata": {},
   "outputs": [],
   "source": [
    "from kodexa import Document, KodexaCloudPipeline"
   ]
  },
  {
   "cell_type": "code",
   "execution_count": 2,
   "metadata": {},
   "outputs": [],
   "source": [
    "context = KodexaCloudPipeline('kodexa-demo/news-analytics', \n",
    "                cloud_url='https://quantum.kodexa.com',\n",
    "                access_token='0132be4f79be4adca4e3986e4c04831b').execute(\n",
    "   Document.from_url('https://www.cnn.com/2020/05/29/tech/trump-twitter-minneapolis/index.html'))"
   ]
  },
  {
   "cell_type": "code",
   "execution_count": 3,
   "metadata": {},
   "outputs": [],
   "source": [
    "document = context.output_document"
   ]
  },
  {
   "cell_type": "code",
   "execution_count": 4,
   "metadata": {},
   "outputs": [
    {
     "data": {
      "text/html": [
       "\n",
       "  <div id='kodexa-div-cb9c160b-dc27-49c5-aa92-a65ae8074d62'></div> \n",
       "  <script>\n",
       "\n",
       "require.config({\n",
       "    paths: {\n",
       "        'kodexa-lib-cb9c160b-dc27-49c5-aa92-a65ae8074d62': 'https://unpkg.com/kodexajs@0.0.15/kodexa'\n",
       "    }\n",
       "});\n",
       "\n",
       "require(['kodexa-lib-cb9c160b-dc27-49c5-aa92-a65ae8074d62'], function() {\n",
       "    kodexa.fromMap({\"version\": \"1.0.0\", \"metadata\": {\"connector_options\": {\"id\": \"788e7995824d49f49b8434bf084f6b67\"}, \"connector\": \"cloud-content\", \"title\": \"Trump tweets threat that 'looting' will lead to 'shooting.' Twitter put a warning label on it - CNN\"}, \"content_node\": {\"type\": \"container\", \"content\": null, \"content_parts\": [0, 0, 0, 0, 0, 0, 0], \"features\": [], \"index\": 0, \"children\": [{\"type\": \"div\", \"content\": null, \"content_parts\": [0, 1, 2, 3, 4], \"features\": [], \"index\": 0, \"children\": [{\"type\": \"div\", \"content\": \"incendiary post\", \"content_parts\": [0, \"incendiary post\", 1], \"features\": [{\"name\": \"html:attrs\", \"value\": [[[\"class\", \"zn-body__paragraph speakable\"]]], \"single\": true}], \"index\": 0, \"children\": [{\"type\": \"p\", \"content\": \"The social media platform is using what it calls a \\\"public interest notice\\\" to flag the \", \"content_parts\": [\"The social media platform is using what it calls a \\\"public interest notice\\\" to flag the \"], \"features\": [], \"index\": 0, \"children\": []}, {\"type\": \"p\", \"content\": \" about the protests and violence in Minneapolis, Minnesota.\", \"content_parts\": [\" about the protests and violence in Minneapolis, Minnesota.\"], \"features\": [{\"name\": \"tag:GPE\", \"value\": [{\"start\": 36, \"end\": 47, \"value\": \"Minneapolis\", \"data\": null}, {\"start\": 49, \"end\": 58, \"value\": \"Minnesota\", \"data\": null}], \"single\": true}], \"index\": 1, \"children\": []}]}, {\"type\": \"p\", \"content\": \"This means the tweets will not be removed, but will be hidden behind a notice that says \\\"this Tweet violated the Twitter Rules about glorifying violence. However, Twitter has determined that it may be in the public's interest for the Tweet to remain accessible.\\\" Users can view it if they click past the notice.\", \"content_parts\": [\"This means the tweets will not be removed, but will be hidden behind a notice that says \\\"this Tweet violated the Twitter Rules about glorifying violence. However, Twitter has determined that it may be in the public's interest for the Tweet to remain accessible.\\\" Users can view it if they click past the notice.\"], \"features\": [{\"name\": \"html:attrs\", \"value\": [[[\"class\", \"zn-body__paragraph speakable\"]]], \"single\": true}, {\"name\": \"tag:PERSON\", \"value\": [{\"start\": 94, \"end\": 99, \"value\": \"Tweet\", \"data\": null}, {\"start\": 163, \"end\": 170, \"value\": \"Twitter\", \"data\": null}, {\"start\": 234, \"end\": 239, \"value\": \"Tweet\", \"data\": null}], \"single\": true}, {\"name\": \"tag:LAW\", \"value\": [{\"start\": 109, \"end\": 126, \"value\": \"the Twitter Rules\", \"data\": null}], \"single\": true}], \"index\": 1, \"children\": []}, {\"type\": \"div\", \"content\": \"signed an executive order\", \"content_parts\": [0, \"signed an executive order\", 1], \"features\": [{\"name\": \"html:attrs\", \"value\": [[[\"class\", \"zn-body__paragraph\"]]], \"single\": true}], \"index\": 2, \"children\": [{\"type\": \"p\", \"content\": \"The company's move risked escalating tensions with the White House during an already tense week. Trump \", \"content_parts\": [\"The company's move risked escalating tensions with the White House during an already tense week. Trump \"], \"features\": [{\"name\": \"tag:ORG\", \"value\": [{\"start\": 51, \"end\": 66, \"value\": \"the White House\", \"data\": null}], \"single\": true}, {\"name\": \"tag:DATE\", \"value\": [{\"start\": 74, \"end\": 95, \"value\": \"an already tense week\", \"data\": null}], \"single\": true}], \"index\": 0, \"children\": []}, {\"type\": \"p\", \"content\": \" that purported to address \\\"censorship\\\" by Twitter and other social media companies, following Twitter's earlier decision to affix fact-check type labels to two of his misleading posts about mail-in voting ballots.\", \"content_parts\": [\" that purported to address \\\"censorship\\\" by Twitter and other social media companies, following Twitter's earlier decision to affix fact-check type labels to two of his misleading posts about mail-in voting ballots.\"], \"features\": [{\"name\": \"tag:PERSON\", \"value\": [{\"start\": 95, \"end\": 102, \"value\": \"Twitter\", \"data\": null}], \"single\": true}, {\"name\": \"tag:CARDINAL\", \"value\": [{\"start\": 157, \"end\": 160, \"value\": \"two\", \"data\": null}], \"single\": true}], \"index\": 1, \"children\": []}]}, {\"type\": \"p\", \"content\": \"Hours after Twitter flagged the tweet from Trump, the official White House account posted the same message. Twitter then took the same action with that message. \", \"content_parts\": [\"Hours after Twitter flagged the tweet from Trump, the official White House account posted the same message. Twitter then took the same action with that message. \"], \"features\": [{\"name\": \"html:attrs\", \"value\": [[[\"class\", \"zn-body__paragraph\"]]], \"single\": true}, {\"name\": \"tag:TIME\", \"value\": [{\"start\": 0, \"end\": 5, \"value\": \"Hours\", \"data\": null}], \"single\": true}, {\"name\": \"tag:PERSON\", \"value\": [{\"start\": 12, \"end\": 19, \"value\": \"Twitter\", \"data\": null}], \"single\": true}, {\"name\": \"tag:PRODUCT\", \"value\": [{\"start\": 43, \"end\": 48, \"value\": \"Trump\", \"data\": null}], \"single\": true}, {\"name\": \"tag:ORG\", \"value\": [{\"start\": 63, \"end\": 74, \"value\": \"White House\", \"data\": null}], \"single\": true}], \"index\": 3, \"children\": []}, {\"type\": \"div\", \"content\": null, \"content_parts\": [0, 1, 2, 3, 4, 5, 6, 7, 8, 9, 10, 11, 12], \"features\": [{\"name\": \"html:attrs\", \"value\": [[[\"class\", \"zn-body__read-all\"]]], \"single\": true}], \"index\": 4, \"children\": [{\"type\": \"p\", \"content\": \"\\\"As is standard with this notice, engagements with the Tweet will be limited,\\\" Twitter said in a tweet explaining its earlier decision to place a warning label on Trump's tweet. \\\"People will be able to Retweet with Comment, but will not be able to Like, Reply or Retweet it.\\\"\", \"content_parts\": [\"\\\"As is standard with this notice, engagements with the Tweet will be limited,\\\" Twitter said in a tweet explaining its earlier decision to place a warning label on Trump's tweet. \\\"People will be able to Retweet with Comment, but will not be able to Like, Reply or Retweet it.\\\"\"], \"features\": [{\"name\": \"html:attrs\", \"value\": [[[\"class\", \"zn-body__paragraph\"]]], \"single\": true}, {\"name\": \"tag:PERSON\", \"value\": [{\"start\": 55, \"end\": 60, \"value\": \"Tweet\", \"data\": null}, {\"start\": 163, \"end\": 168, \"value\": \"Trump\", \"data\": null}], \"single\": true}, {\"name\": \"tag:ORG\", \"value\": [{\"start\": 202, \"end\": 222, \"value\": \"Retweet with Comment\", \"data\": null}, {\"start\": 254, \"end\": 259, \"value\": \"Reply\", \"data\": null}], \"single\": true}, {\"name\": \"tag:significant\", \"value\": [{\"start\": null, \"end\": null, \"value\": null, \"data\": null}], \"single\": true}, {\"name\": \"significant:weight\", \"value\": [5.538461538461537], \"single\": true}], \"index\": 0, \"children\": []}, {\"type\": \"p\", \"content\": \"A spokesperson for Twitter said the decision was made by teams within the company and CEO Jack Dorsey was informed of the plan before Trump's tweet was labeled.\", \"content_parts\": [\"A spokesperson for Twitter said the decision was made by teams within the company and CEO Jack Dorsey was informed of the plan before Trump's tweet was labeled.\"], \"features\": [{\"name\": \"html:attrs\", \"value\": [[[\"class\", \"zn-body__paragraph\"]]], \"single\": true}, {\"name\": \"tag:PERSON\", \"value\": [{\"start\": 19, \"end\": 26, \"value\": \"Twitter\", \"data\": null}, {\"start\": 90, \"end\": 101, \"value\": \"Jack Dorsey\", \"data\": null}, {\"start\": 134, \"end\": 139, \"value\": \"Trump\", \"data\": null}], \"single\": true}], \"index\": 1, \"children\": []}, {\"type\": \"p\", \"content\": \"Trump continued his criticisms of Twitter on Friday after it labeled his post, tweeting that \\\"it well be regulated.\\\"\", \"content_parts\": [\"Trump continued his criticisms of Twitter on Friday after it labeled his post, tweeting that \\\"it well be regulated.\\\"\"], \"features\": [{\"name\": \"html:attrs\", \"value\": [[[\"class\", \"zn-body__paragraph\"]]], \"single\": true}, {\"name\": \"tag:DATE\", \"value\": [{\"start\": 45, \"end\": 51, \"value\": \"Friday\", \"data\": null}], \"single\": true}], \"index\": 2, \"children\": []}, {\"type\": \"p\", \"content\": \"The president posted an identical message to Facebook and Facebook-owned Instagram. CNN has reached out to Facebook for comment.\", \"content_parts\": [\"The president posted an identical message to Facebook and Facebook-owned Instagram. CNN has reached out to Facebook for comment.\"], \"features\": [{\"name\": \"html:attrs\", \"value\": [[[\"class\", \"zn-body__paragraph\"]]], \"single\": true}, {\"name\": \"tag:ORG\", \"value\": [{\"start\": 73, \"end\": 82, \"value\": \"Instagram\", \"data\": null}, {\"start\": 84, \"end\": 87, \"value\": \"CNN\", \"data\": null}], \"single\": true}], \"index\": 3, \"children\": []}, {\"type\": \"div\", \"content\": \"he could not breathea white police officer used his knee to pin Floyd down\", \"content_parts\": [0, \"he could not breathe\", 1, \"a white police officer used his knee to pin Floyd down\", 2], \"features\": [{\"name\": \"html:attrs\", \"value\": [[[\"class\", \"zn-body__paragraph\"]]], \"single\": true}, {\"name\": \"tag:PERSON\", \"value\": [{\"start\": 64, \"end\": 69, \"value\": \"Floyd\", \"data\": null}], \"single\": true}], \"index\": 4, \"children\": [{\"type\": \"p\", \"content\": \"The post in question was about a third night of protests following the death of George Floyd, a black man who was filmed on video saying that \", \"content_parts\": [\"The post in question was about a third night of protests following the death of George Floyd, a black man who was filmed on video saying that \"], \"features\": [{\"name\": \"tag:TIME\", \"value\": [{\"start\": 25, \"end\": 44, \"value\": \"about a third night\", \"data\": null}], \"single\": true}, {\"name\": \"tag:PERSON\", \"value\": [{\"start\": 80, \"end\": 92, \"value\": \"George Floyd\", \"data\": null}], \"single\": true}], \"index\": 0, \"children\": []}, {\"type\": \"p\", \"content\": \" as \", \"content_parts\": [\" as \"], \"features\": [], \"index\": 1, \"children\": []}, {\"type\": \"p\", \"content\": \". \", \"content_parts\": [\". \"], \"features\": [], \"index\": 2, \"children\": []}]}, {\"type\": \"p\", \"content\": \"As cable news networks carried images of fires and destructive protests in Minneapolis, the president tweeted at 12:53 a.m. ET: \\\"these THUGS are dishonoring the memory of George Floyd, and I won't let that happen. Just spoke to Governor Tim Walz and told him that the Military is with him all the way. Any difficulty and we will assume control but, when the looting starts, the shooting starts. Thank you!\\\"\", \"content_parts\": [\"As cable news networks carried images of fires and destructive protests in Minneapolis, the president tweeted at 12:53 a.m. ET: \\\"these THUGS are dishonoring the memory of George Floyd, and I won't let that happen. Just spoke to Governor Tim Walz and told him that the Military is with him all the way. Any difficulty and we will assume control but, when the looting starts, the shooting starts. Thank you!\\\"\"], \"features\": [{\"name\": \"html:attrs\", \"value\": [[[\"class\", \"zn-body__paragraph\"]]], \"single\": true}, {\"name\": \"tag:GPE\", \"value\": [{\"start\": 75, \"end\": 86, \"value\": \"Minneapolis\", \"data\": null}], \"single\": true}, {\"name\": \"tag:TIME\", \"value\": [{\"start\": 113, \"end\": 123, \"value\": \"12:53 a.m.\", \"data\": null}], \"single\": true}, {\"name\": \"tag:PERSON\", \"value\": [{\"start\": 171, \"end\": 183, \"value\": \"George Floyd\", \"data\": null}, {\"start\": 237, \"end\": 245, \"value\": \"Tim Walz\", \"data\": null}], \"single\": true}], \"index\": 5, \"children\": []}, {\"type\": \"div\", \"content\": \"used by a Miami police chief in the late 1960s riots\", \"content_parts\": [0, \"used by a Miami police chief in the late 1960s\", 1, \" riots\", 2], \"features\": [{\"name\": \"html:attrs\", \"value\": [[[\"class\", \"zn-body__paragraph\"]]], \"single\": true}, {\"name\": \"tag:GPE\", \"value\": [{\"start\": 10, \"end\": 15, \"value\": \"Miami\", \"data\": null}], \"single\": true}, {\"name\": \"tag:DATE\", \"value\": [{\"start\": 32, \"end\": 46, \"value\": \"the late 1960s\", \"data\": null}], \"single\": true}], \"index\": 6, \"children\": [{\"type\": \"p\", \"content\": \"His phrase \\\"when the looting starts, the shooting starts,\\\" mirrors language \", \"content_parts\": [\"His phrase \\\"when the looting starts, the shooting starts,\\\" mirrors language \"], \"features\": [], \"index\": 0, \"children\": []}, {\"type\": \"p\", \"content\": \" in the wake of\", \"content_parts\": [\" in the wake of\"], \"features\": [], \"index\": 1, \"children\": []}, {\"type\": \"p\", \"content\": \". Its use was immediately condemned by a wide array of individuals, from historians to members of rival political campaigns.\", \"content_parts\": [\". Its use was immediately condemned by a wide array of individuals, from historians to members of rival political campaigns.\"], \"features\": [], \"index\": 2, \"children\": []}]}, {\"type\": \"p\", \"content\": \"Some users reported the tweet to Twitter as a rule violation.\", \"content_parts\": [\"Some users reported the tweet to Twitter as a rule violation.\"], \"features\": [{\"name\": \"html:attrs\", \"value\": [[[\"class\", \"zn-body__paragraph\"]]], \"single\": true}], \"index\": 7, \"children\": []}, {\"type\": \"p\", \"content\": \"Less than two-and-a-half hours later, Twitter took action. \\\"This Tweet violates our policies regarding the glorification of violence based on the historical context of the last line, its connection to violence, and the risk it could inspire similar actions today,\\\" the company said.\", \"content_parts\": [\"Less than two-and-a-half hours later, Twitter took action. \\\"This Tweet violates our policies regarding the glorification of violence based on the historical context of the last line, its connection to violence, and the risk it could inspire similar actions today,\\\" the company said.\"], \"features\": [{\"name\": \"html:attrs\", \"value\": [[[\"class\", \"zn-body__paragraph\"]]], \"single\": true}, {\"name\": \"tag:CARDINAL\", \"value\": [{\"start\": 0, \"end\": 13, \"value\": \"Less than two\", \"data\": null}], \"single\": true}, {\"name\": \"tag:PERSON\", \"value\": [{\"start\": 38, \"end\": 45, \"value\": \"Twitter\", \"data\": null}], \"single\": true}, {\"name\": \"tag:DATE\", \"value\": [{\"start\": 257, \"end\": 262, \"value\": \"today\", \"data\": null}], \"single\": true}], \"index\": 8, \"children\": []}, {\"type\": \"p\", \"content\": \"\\\"We've taken action in the interest of preventing others from being inspired to commit violent acts, but have kept the Tweet on Twitter because it is important that the public still be able to see the Tweet given its relevance to ongoing matters of public importance.\\\"\", \"content_parts\": [\"\\\"We've taken action in the interest of preventing others from being inspired to commit violent acts, but have kept the Tweet on Twitter because it is important that the public still be able to see the Tweet given its relevance to ongoing matters of public importance.\\\"\"], \"features\": [{\"name\": \"html:attrs\", \"value\": [[[\"class\", \"zn-body__paragraph\"]]], \"single\": true}], \"index\": 9, \"children\": []}, {\"type\": \"div\", \"content\": \" \", \"content_parts\": [0, \" \", 1, 2], \"features\": [{\"name\": \"html:attrs\", \"value\": [[[\"class\", \"zn-body__paragraph\"]]], \"single\": true}], \"index\": 10, \"children\": [{\"type\": \"span\", \"content\": \"Twitter\", \"content_parts\": [\"Twitter\"], \"features\": [], \"index\": 0, \"children\": []}, {\"type\": \"span\", \"content\": \"( )\", \"content_parts\": [\"(\", 0, \")\"], \"features\": [], \"index\": 1, \"children\": [{\"type\": \"span\", \"content\": \"TWTR\", \"content_parts\": [\"TWTR\"], \"features\": [{\"name\": \"html:attrs\", \"value\": [[[\"class\", \"inlink_chart\"]]], \"single\": true}, {\"name\": \"tag:ORG\", \"value\": [{\"start\": 0, \"end\": 4, \"value\": \"TWTR\", \"data\": null}], \"single\": true}], \"index\": 0, \"children\": []}]}, {\"type\": \"p\", \"content\": \" has said in the past that it makes exceptions to its rules when heads of state are involved, due to the inherently newsworthy nature of their posts.\", \"content_parts\": [\" has said in the past that it makes exceptions to its rules when heads of state are involved, due to the inherently newsworthy nature of their posts.\"], \"features\": [], \"index\": 2, \"children\": []}]}, {\"type\": \"p\", \"content\": \"Facebook came under scrutiny last year for saying it would not fact-check politicians' posts. \", \"content_parts\": [\"Facebook came under scrutiny last year for saying it would not fact-check politicians' posts. \"], \"features\": [{\"name\": \"html:attrs\", \"value\": [[[\"class\", \"zn-body__paragraph\"]]], \"single\": true}, {\"name\": \"tag:DATE\", \"value\": [{\"start\": 29, \"end\": 38, \"value\": \"last year\", \"data\": null}], \"single\": true}], \"index\": 11, \"children\": []}, {\"type\": \"div\", \"content\": \"in a speech\", \"content_parts\": [0, \"in a speech\", 1], \"features\": [{\"name\": \"html:attrs\", \"value\": [[[\"class\", \"zn-body__paragraph\"]]], \"single\": true}], \"index\": 12, \"children\": [{\"type\": \"p\", \"content\": \"Mark Zuckerberg, Facebook's CEO and cofounder, defended the company's position \", \"content_parts\": [\"Mark Zuckerberg, Facebook's CEO and cofounder, defended the company's position \"], \"features\": [{\"name\": \"tag:PERSON\", \"value\": [{\"start\": 0, \"end\": 15, \"value\": \"Mark Zuckerberg\", \"data\": null}], \"single\": true}, {\"name\": \"tag:ORG\", \"value\": [{\"start\": 17, \"end\": 25, \"value\": \"Facebook\", \"data\": null}], \"single\": true}], \"index\": 0, \"children\": []}, {\"type\": \"p\", \"content\": \" last year in Washington, but noted there may be some exceptions. \\\"Even for politicians we don't allow content that incites violence or risks imminent harm — and of course we don't allow voter suppression,\\\" he said.\", \"content_parts\": [\" last year in Washington, but noted there may be some exceptions. \\\"Even for politicians we don't allow content that incites violence or risks imminent harm — and of course we don't allow voter suppression,\\\" he said.\"], \"features\": [{\"name\": \"tag:DATE\", \"value\": [{\"start\": 1, \"end\": 10, \"value\": \"last year\", \"data\": null}], \"single\": true}, {\"name\": \"tag:GPE\", \"value\": [{\"start\": 14, \"end\": 24, \"value\": \"Washington\", \"data\": null}], \"single\": true}], \"index\": 1, \"children\": []}]}]}]}]}, \"mixins\": [\"core\", \"html\"], \"exceptions\": [], \"log\": [], \"uuid\": \"4164c75e-bed2-496a-baa6-895e21676a71\"}).then(kdxaDocument => {\n",
       "       let widget = kodexa.newDocumentWidget(kdxaDocument);\n",
       "       widget.attach($('#kodexa-div-cb9c160b-dc27-49c5-aa92-a65ae8074d62'))\n",
       "       widget.render();\n",
       "    });\n",
       "    \n",
       "});\n",
       "</script>\n"
      ],
      "text/plain": [
       "<kodexa.model.model.Document at 0x7fdf9003c790>"
      ]
     },
     "execution_count": 4,
     "metadata": {},
     "output_type": "execute_result"
    }
   ],
   "source": [
    "document"
   ]
  },
  {
   "cell_type": "code",
   "execution_count": null,
   "metadata": {},
   "outputs": [],
   "source": []
  },
  {
   "cell_type": "code",
   "execution_count": null,
   "metadata": {},
   "outputs": [],
   "source": []
  },
  {
   "cell_type": "code",
   "execution_count": null,
   "metadata": {},
   "outputs": [],
   "source": []
  },
  {
   "cell_type": "code",
   "execution_count": null,
   "metadata": {},
   "outputs": [],
   "source": []
  }
 ],
 "metadata": {
  "kernelspec": {
   "display_name": "Python 3",
   "language": "python",
   "name": "python3"
  },
  "language_info": {
   "codemirror_mode": {
    "name": "ipython",
    "version": 3
   },
   "file_extension": ".py",
   "mimetype": "text/x-python",
   "name": "python",
   "nbconvert_exporter": "python",
   "pygments_lexer": "ipython3",
   "version": "3.7.6"
  }
 },
 "nbformat": 4,
 "nbformat_minor": 4
}
