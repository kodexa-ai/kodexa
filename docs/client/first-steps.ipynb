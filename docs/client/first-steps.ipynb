{
 "cells": [
  {
   "cell_type": "markdown",
   "source": [
    "# First Steps with the Client\n",
    "\n",
    "Once you have a client you can start to work with the resources that are available on the server.\n",
    "\n",
    "The client object has a number of methods that allow you to work with the resources that are available on the server, for\n",
    "example if you want to work with organizations then you can use:\n",
    "\n",
    "## List Organizations\n",
    "\n",
    "One of the first things typically is to understand how to work with a organizations.\n",
    "\n",
    "Let's start by listing the organizations making a specific query\n"
   ],
   "metadata": {
    "collapsed": false
   }
  },
  {
   "cell_type": "code",
   "execution_count": 6,
   "outputs": [
    {
     "data": {
      "text/plain": "                                              client  \\\n0  <kodexa.platform.client.KodexaClient object at...   \n\n                                     id                              uuid  \\\n0  f89d51f5-4905-4bd9-ab06-6ba61f3e7891  5630a279802b4fa69fc4f675a6ac37f6   \n\n                        created_on                       updated_on  \\\n0 2022-12-14 00:48:03.264000+00:00 2022-12-14 00:48:03.264000+00:00   \n\n            name           slug  public_access description  has_image  \n0  Philips World  philips-world          False        None      False  ",
      "text/html": "<div>\n<style scoped>\n    .dataframe tbody tr th:only-of-type {\n        vertical-align: middle;\n    }\n\n    .dataframe tbody tr th {\n        vertical-align: top;\n    }\n\n    .dataframe thead th {\n        text-align: right;\n    }\n</style>\n<table border=\"1\" class=\"dataframe\">\n  <thead>\n    <tr style=\"text-align: right;\">\n      <th></th>\n      <th>client</th>\n      <th>id</th>\n      <th>uuid</th>\n      <th>created_on</th>\n      <th>updated_on</th>\n      <th>name</th>\n      <th>slug</th>\n      <th>public_access</th>\n      <th>description</th>\n      <th>has_image</th>\n    </tr>\n  </thead>\n  <tbody>\n    <tr>\n      <th>0</th>\n      <td>&lt;kodexa.platform.client.KodexaClient object at...</td>\n      <td>f89d51f5-4905-4bd9-ab06-6ba61f3e7891</td>\n      <td>5630a279802b4fa69fc4f675a6ac37f6</td>\n      <td>2022-12-14 00:48:03.264000+00:00</td>\n      <td>2022-12-14 00:48:03.264000+00:00</td>\n      <td>Philips World</td>\n      <td>philips-world</td>\n      <td>False</td>\n      <td>None</td>\n      <td>False</td>\n    </tr>\n  </tbody>\n</table>\n</div>"
     },
     "execution_count": 6,
     "metadata": {},
     "output_type": "execute_result"
    }
   ],
   "source": [
    "from kodexa.platform import KodexaClient\n",
    "\n",
    "client = KodexaClient()\n",
    "\n",
    "client.organizations.list(query='Philip').to_df()"
   ],
   "metadata": {
    "collapsed": false
   }
  },
  {
   "cell_type": "markdown",
   "source": [
    "## Creating an Organization\n",
    "\n",
    "Next up we can see how we can create a new organization"
   ],
   "metadata": {
    "collapsed": false
   }
  },
  {
   "cell_type": "code",
   "execution_count": 7,
   "outputs": [],
   "source": [
    "from kodexa.model.objects import Organization\n",
    "\n",
    "new_organization_object = Organization(name='Demo', slug='demo')\n",
    "new_organization_endpoint = client.organizations.create(new_organization_object)"
   ],
   "metadata": {
    "collapsed": false
   }
  },
  {
   "cell_type": "markdown",
   "source": [
    "*Note* It is important to note from above that when we want to create an object in the platform we create an instance of the object and then pass that. However, note that\n",
    "when we look at the result of the creation we will get an endpoint for that object.  The object on it own is only the metadata of the object, however the endpoint version\n",
    "of the object also allows us to interact with the organization.\n",
    "\n",
    "This pattern is repeated within the client SDK."
   ],
   "metadata": {
    "collapsed": false
   }
  }
 ],
 "metadata": {
  "kernelspec": {
   "display_name": "Python 3",
   "language": "python",
   "name": "python3"
  },
  "language_info": {
   "codemirror_mode": {
    "name": "ipython",
    "version": 2
   },
   "file_extension": ".py",
   "mimetype": "text/x-python",
   "name": "python",
   "nbconvert_exporter": "python",
   "pygments_lexer": "ipython2",
   "version": "2.7.6"
  }
 },
 "nbformat": 4,
 "nbformat_minor": 0
}
