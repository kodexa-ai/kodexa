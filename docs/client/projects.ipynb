{
 "cells": [
  {
   "cell_type": "markdown",
   "source": [
    "One of the most important concepts is that of Projects.\n",
    "\n",
    "A project is a locally grouping of components, typically brought together to allow us to solve\n",
    "a specific use-case.\n",
    "\n",
    "Projects are owned by an organization, so the first thing we will typically do is create, or find an existing,\n",
    "organization.\n",
    "\n"
   ],
   "metadata": {
    "collapsed": false
   }
  },
  {
   "cell_type": "code",
   "execution_count": 6,
   "outputs": [
    {
     "data": {
      "text/plain": "                                              client  \\\n0  <kodexa.platform.client.KodexaClient object at...   \n\n                                     id                              uuid  \\\n0  f89d51f5-4905-4bd9-ab06-6ba61f3e7891  5630a279802b4fa69fc4f675a6ac37f6   \n\n                        created_on                       updated_on  \\\n0 2022-12-14 00:48:03.264000+00:00 2022-12-14 00:48:03.264000+00:00   \n\n            name           slug  public_access description  has_image  \n0  Philips World  philips-world          False        None      False  ",
      "text/html": "<div>\n<style scoped>\n    .dataframe tbody tr th:only-of-type {\n        vertical-align: middle;\n    }\n\n    .dataframe tbody tr th {\n        vertical-align: top;\n    }\n\n    .dataframe thead th {\n        text-align: right;\n    }\n</style>\n<table border=\"1\" class=\"dataframe\">\n  <thead>\n    <tr style=\"text-align: right;\">\n      <th></th>\n      <th>client</th>\n      <th>id</th>\n      <th>uuid</th>\n      <th>created_on</th>\n      <th>updated_on</th>\n      <th>name</th>\n      <th>slug</th>\n      <th>public_access</th>\n      <th>description</th>\n      <th>has_image</th>\n    </tr>\n  </thead>\n  <tbody>\n    <tr>\n      <th>0</th>\n      <td>&lt;kodexa.platform.client.KodexaClient object at...</td>\n      <td>f89d51f5-4905-4bd9-ab06-6ba61f3e7891</td>\n      <td>5630a279802b4fa69fc4f675a6ac37f6</td>\n      <td>2022-12-14 00:48:03.264000+00:00</td>\n      <td>2022-12-14 00:48:03.264000+00:00</td>\n      <td>Philips World</td>\n      <td>philips-world</td>\n      <td>False</td>\n      <td>None</td>\n      <td>False</td>\n    </tr>\n  </tbody>\n</table>\n</div>"
     },
     "execution_count": 6,
     "metadata": {},
     "output_type": "execute_result"
    }
   ],
   "source": [
    "from kodexa.platform import KodexaClient\n",
    "\n",
    "client = KodexaClient()\n",
    "\n",
    "client.organizations.list(query='Philip').to_df()"
   ],
   "metadata": {
    "collapsed": false
   }
  },
  {
   "cell_type": "code",
   "execution_count": 7,
   "outputs": [],
   "source": [
    "philips_organization = client.organizations.find_by_slug('philips-world')"
   ],
   "metadata": {
    "collapsed": false
   }
  },
  {
   "cell_type": "markdown",
   "source": [
    "*Note* It is important to note from above that when we want to create an object in the platform we create an instance of the object and then pass that. However, note that\n",
    "when we look at the result of the creation we will get an endpoint for that object.  The object on it own is only the metadata of the object, however the endpoint version\n",
    "of the object also allows us to interact with the organization.\n",
    "\n",
    "This pattern is repeated within the client SDK.\n",
    "\n",
    "## Deleting an Organization\n",
    "\n",
    "If we have an instance of the Organiation endpoint object then we can also delete the organization."
   ],
   "metadata": {
    "collapsed": false
   }
  },
  {
   "cell_type": "code",
   "execution_count": 8,
   "outputs": [],
   "source": [
    "new_organization_endpoint.delete()"
   ],
   "metadata": {
    "collapsed": false
   }
  },
  {
   "cell_type": "markdown",
   "source": [
    "## Organization Components\n",
    "\n",
    "Within an organization we have access to the components that make up that organization. They are available\n",
    "as a property with the name of the type of components (ie. stores, taxonomies etc).\n"
   ],
   "metadata": {
    "collapsed": false
   }
  },
  {
   "cell_type": "code",
   "execution_count": 10,
   "outputs": [],
   "source": [
    "kodexa_organization = client.organizations.find_by_slug('kodexa')"
   ],
   "metadata": {
    "collapsed": false
   }
  },
  {
   "cell_type": "code",
   "execution_count": 13,
   "outputs": [
    {
     "data": {
      "text/plain": "                                    ref  template  schema_version org_slug  \\\n0       kodexa/kodexa-table-model:1.0.0     False               1   kodexa   \n1         kodexa/azure-form-model:1.0.0     False               1   kodexa   \n2           kodexa/azure-read-api:1.0.0     False               1   kodexa   \n3      kodexa/azure-invoice-model:1.0.0     False               1   kodexa   \n4             kodexa/data-helpers:1.0.0     False               1   kodexa   \n5  kodexa/azure-custom-form-model:1.0.0      True               1   kodexa   \n6      kodexa/azure-receipt-model:1.0.0     False               1   kodexa   \n7        kodexa/kodexa-form-model:1.0.0     False               1   kodexa   \n8    kodexa/spacy-text-classifier:1.0.0      True               1   kodexa   \n9        kodexa/metadata-to-label:1.0.0     False               1   kodexa   \n\n                      slug   type                          name  \\\n0       kodexa-table-model  store            Text Pattern Table   \n1         azure-form-model  store         Azure Form Recognizer   \n2           azure-read-api  store                Azure Read API   \n3      azure-invoice-model  store      Azure Invoice Recognizer   \n4             data-helpers  store                  Data Helpers   \n5  azure-custom-form-model  store  Azure Custom Form Recognizer   \n6      azure-receipt-model  store      Azure Receipt Recognizer   \n7        kodexa-form-model  store             Text Pattern Form   \n8    spacy-text-classifier  store         Spacy Text Classifier   \n9        metadata-to-label  store             Metadata to Label   \n\n                                         description version  \\\n0  Allows labeling of table markers to find colum...   1.0.0   \n1  Applies advanced machine learning to accuratel...   1.0.0   \n2  Provides the ability for optical character rec...   1.0.0   \n3  Applies advanced machine learning to accuratel...   1.0.0   \n4  A collection of models that help you work with...   1.0.0   \n5  Applies advanced machine learning to accuratel...   1.0.0   \n6  Applies advanced machine learning to accuratel...   1.0.0   \n7  Allows labeling of common text to identify whe...   1.0.0   \n8               A simple text classifier using Spacy   1.0.0   \n9  A simple model that looks for metadata on the ...   1.0.0   \n\n                          deployed  ...  searchable store_purpose  \\\n0 2022-12-01 12:19:27.586000+00:00  ...       False          None   \n1 2022-12-01 12:20:14.102000+00:00  ...       False          None   \n2 2022-12-01 12:19:46.672000+00:00  ...       False          None   \n3 2022-12-01 12:19:39.518000+00:00  ...       False          None   \n4 2022-12-01 12:20:23.720000+00:00  ...       False          None   \n5 2022-12-01 12:19:53.242000+00:00  ...       False          None   \n6 2022-12-01 12:20:06.820000+00:00  ...       False          None   \n7 2022-12-01 12:19:31.778000+00:00  ...       False          None   \n8 2022-12-01 12:19:11.830000+00:00  ...       False          None   \n9 2022-12-01 12:18:48.139000+00:00  ...       False          None   \n\n  view_options view_presets show_thumbnails showSearch allowDataEditing  \\\n0         None         None            None       None            False   \n1         None         None            None       None            False   \n2         None         None            None       None            False   \n3         None         None            None       None            False   \n4         None         None            None       None            False   \n5         None         None            None       None            False   \n6         None         None            None       None            False   \n7         None         None            None       None            False   \n8         None         None            None       None            False   \n9         None         None            None       None            False   \n\n                                              client  IMPLEMENTATION_PREFIX  \\\n0  <kodexa.platform.client.KodexaClient object at...  model_implementation/   \n1  <kodexa.platform.client.KodexaClient object at...  model_implementation/   \n2  <kodexa.platform.client.KodexaClient object at...  model_implementation/   \n3  <kodexa.platform.client.KodexaClient object at...  model_implementation/   \n4  <kodexa.platform.client.KodexaClient object at...  model_implementation/   \n5  <kodexa.platform.client.KodexaClient object at...  model_implementation/   \n6  <kodexa.platform.client.KodexaClient object at...  model_implementation/   \n7  <kodexa.platform.client.KodexaClient object at...  model_implementation/   \n8  <kodexa.platform.client.KodexaClient object at...  model_implementation/   \n9  <kodexa.platform.client.KodexaClient object at...  model_implementation/   \n\n  TRAINED_MODELS_PREFIX  \n0       trained_models/  \n1       trained_models/  \n2       trained_models/  \n3       trained_models/  \n4       trained_models/  \n5       trained_models/  \n6       trained_models/  \n7       trained_models/  \n8       trained_models/  \n9       trained_models/  \n\n[10 rows x 31 columns]",
      "text/html": "<div>\n<style scoped>\n    .dataframe tbody tr th:only-of-type {\n        vertical-align: middle;\n    }\n\n    .dataframe tbody tr th {\n        vertical-align: top;\n    }\n\n    .dataframe thead th {\n        text-align: right;\n    }\n</style>\n<table border=\"1\" class=\"dataframe\">\n  <thead>\n    <tr style=\"text-align: right;\">\n      <th></th>\n      <th>ref</th>\n      <th>template</th>\n      <th>schema_version</th>\n      <th>org_slug</th>\n      <th>slug</th>\n      <th>type</th>\n      <th>name</th>\n      <th>description</th>\n      <th>version</th>\n      <th>deployed</th>\n      <th>...</th>\n      <th>searchable</th>\n      <th>store_purpose</th>\n      <th>view_options</th>\n      <th>view_presets</th>\n      <th>show_thumbnails</th>\n      <th>showSearch</th>\n      <th>allowDataEditing</th>\n      <th>client</th>\n      <th>IMPLEMENTATION_PREFIX</th>\n      <th>TRAINED_MODELS_PREFIX</th>\n    </tr>\n  </thead>\n  <tbody>\n    <tr>\n      <th>0</th>\n      <td>kodexa/kodexa-table-model:1.0.0</td>\n      <td>False</td>\n      <td>1</td>\n      <td>kodexa</td>\n      <td>kodexa-table-model</td>\n      <td>store</td>\n      <td>Text Pattern Table</td>\n      <td>Allows labeling of table markers to find colum...</td>\n      <td>1.0.0</td>\n      <td>2022-12-01 12:19:27.586000+00:00</td>\n      <td>...</td>\n      <td>False</td>\n      <td>None</td>\n      <td>None</td>\n      <td>None</td>\n      <td>None</td>\n      <td>None</td>\n      <td>False</td>\n      <td>&lt;kodexa.platform.client.KodexaClient object at...</td>\n      <td>model_implementation/</td>\n      <td>trained_models/</td>\n    </tr>\n    <tr>\n      <th>1</th>\n      <td>kodexa/azure-form-model:1.0.0</td>\n      <td>False</td>\n      <td>1</td>\n      <td>kodexa</td>\n      <td>azure-form-model</td>\n      <td>store</td>\n      <td>Azure Form Recognizer</td>\n      <td>Applies advanced machine learning to accuratel...</td>\n      <td>1.0.0</td>\n      <td>2022-12-01 12:20:14.102000+00:00</td>\n      <td>...</td>\n      <td>False</td>\n      <td>None</td>\n      <td>None</td>\n      <td>None</td>\n      <td>None</td>\n      <td>None</td>\n      <td>False</td>\n      <td>&lt;kodexa.platform.client.KodexaClient object at...</td>\n      <td>model_implementation/</td>\n      <td>trained_models/</td>\n    </tr>\n    <tr>\n      <th>2</th>\n      <td>kodexa/azure-read-api:1.0.0</td>\n      <td>False</td>\n      <td>1</td>\n      <td>kodexa</td>\n      <td>azure-read-api</td>\n      <td>store</td>\n      <td>Azure Read API</td>\n      <td>Provides the ability for optical character rec...</td>\n      <td>1.0.0</td>\n      <td>2022-12-01 12:19:46.672000+00:00</td>\n      <td>...</td>\n      <td>False</td>\n      <td>None</td>\n      <td>None</td>\n      <td>None</td>\n      <td>None</td>\n      <td>None</td>\n      <td>False</td>\n      <td>&lt;kodexa.platform.client.KodexaClient object at...</td>\n      <td>model_implementation/</td>\n      <td>trained_models/</td>\n    </tr>\n    <tr>\n      <th>3</th>\n      <td>kodexa/azure-invoice-model:1.0.0</td>\n      <td>False</td>\n      <td>1</td>\n      <td>kodexa</td>\n      <td>azure-invoice-model</td>\n      <td>store</td>\n      <td>Azure Invoice Recognizer</td>\n      <td>Applies advanced machine learning to accuratel...</td>\n      <td>1.0.0</td>\n      <td>2022-12-01 12:19:39.518000+00:00</td>\n      <td>...</td>\n      <td>False</td>\n      <td>None</td>\n      <td>None</td>\n      <td>None</td>\n      <td>None</td>\n      <td>None</td>\n      <td>False</td>\n      <td>&lt;kodexa.platform.client.KodexaClient object at...</td>\n      <td>model_implementation/</td>\n      <td>trained_models/</td>\n    </tr>\n    <tr>\n      <th>4</th>\n      <td>kodexa/data-helpers:1.0.0</td>\n      <td>False</td>\n      <td>1</td>\n      <td>kodexa</td>\n      <td>data-helpers</td>\n      <td>store</td>\n      <td>Data Helpers</td>\n      <td>A collection of models that help you work with...</td>\n      <td>1.0.0</td>\n      <td>2022-12-01 12:20:23.720000+00:00</td>\n      <td>...</td>\n      <td>False</td>\n      <td>None</td>\n      <td>None</td>\n      <td>None</td>\n      <td>None</td>\n      <td>None</td>\n      <td>False</td>\n      <td>&lt;kodexa.platform.client.KodexaClient object at...</td>\n      <td>model_implementation/</td>\n      <td>trained_models/</td>\n    </tr>\n    <tr>\n      <th>5</th>\n      <td>kodexa/azure-custom-form-model:1.0.0</td>\n      <td>True</td>\n      <td>1</td>\n      <td>kodexa</td>\n      <td>azure-custom-form-model</td>\n      <td>store</td>\n      <td>Azure Custom Form Recognizer</td>\n      <td>Applies advanced machine learning to accuratel...</td>\n      <td>1.0.0</td>\n      <td>2022-12-01 12:19:53.242000+00:00</td>\n      <td>...</td>\n      <td>False</td>\n      <td>None</td>\n      <td>None</td>\n      <td>None</td>\n      <td>None</td>\n      <td>None</td>\n      <td>False</td>\n      <td>&lt;kodexa.platform.client.KodexaClient object at...</td>\n      <td>model_implementation/</td>\n      <td>trained_models/</td>\n    </tr>\n    <tr>\n      <th>6</th>\n      <td>kodexa/azure-receipt-model:1.0.0</td>\n      <td>False</td>\n      <td>1</td>\n      <td>kodexa</td>\n      <td>azure-receipt-model</td>\n      <td>store</td>\n      <td>Azure Receipt Recognizer</td>\n      <td>Applies advanced machine learning to accuratel...</td>\n      <td>1.0.0</td>\n      <td>2022-12-01 12:20:06.820000+00:00</td>\n      <td>...</td>\n      <td>False</td>\n      <td>None</td>\n      <td>None</td>\n      <td>None</td>\n      <td>None</td>\n      <td>None</td>\n      <td>False</td>\n      <td>&lt;kodexa.platform.client.KodexaClient object at...</td>\n      <td>model_implementation/</td>\n      <td>trained_models/</td>\n    </tr>\n    <tr>\n      <th>7</th>\n      <td>kodexa/kodexa-form-model:1.0.0</td>\n      <td>False</td>\n      <td>1</td>\n      <td>kodexa</td>\n      <td>kodexa-form-model</td>\n      <td>store</td>\n      <td>Text Pattern Form</td>\n      <td>Allows labeling of common text to identify whe...</td>\n      <td>1.0.0</td>\n      <td>2022-12-01 12:19:31.778000+00:00</td>\n      <td>...</td>\n      <td>False</td>\n      <td>None</td>\n      <td>None</td>\n      <td>None</td>\n      <td>None</td>\n      <td>None</td>\n      <td>False</td>\n      <td>&lt;kodexa.platform.client.KodexaClient object at...</td>\n      <td>model_implementation/</td>\n      <td>trained_models/</td>\n    </tr>\n    <tr>\n      <th>8</th>\n      <td>kodexa/spacy-text-classifier:1.0.0</td>\n      <td>True</td>\n      <td>1</td>\n      <td>kodexa</td>\n      <td>spacy-text-classifier</td>\n      <td>store</td>\n      <td>Spacy Text Classifier</td>\n      <td>A simple text classifier using Spacy</td>\n      <td>1.0.0</td>\n      <td>2022-12-01 12:19:11.830000+00:00</td>\n      <td>...</td>\n      <td>False</td>\n      <td>None</td>\n      <td>None</td>\n      <td>None</td>\n      <td>None</td>\n      <td>None</td>\n      <td>False</td>\n      <td>&lt;kodexa.platform.client.KodexaClient object at...</td>\n      <td>model_implementation/</td>\n      <td>trained_models/</td>\n    </tr>\n    <tr>\n      <th>9</th>\n      <td>kodexa/metadata-to-label:1.0.0</td>\n      <td>False</td>\n      <td>1</td>\n      <td>kodexa</td>\n      <td>metadata-to-label</td>\n      <td>store</td>\n      <td>Metadata to Label</td>\n      <td>A simple model that looks for metadata on the ...</td>\n      <td>1.0.0</td>\n      <td>2022-12-01 12:18:48.139000+00:00</td>\n      <td>...</td>\n      <td>False</td>\n      <td>None</td>\n      <td>None</td>\n      <td>None</td>\n      <td>None</td>\n      <td>None</td>\n      <td>False</td>\n      <td>&lt;kodexa.platform.client.KodexaClient object at...</td>\n      <td>model_implementation/</td>\n      <td>trained_models/</td>\n    </tr>\n  </tbody>\n</table>\n<p>10 rows × 31 columns</p>\n</div>"
     },
     "execution_count": 13,
     "metadata": {},
     "output_type": "execute_result"
    }
   ],
   "source": [
    "kodexa_organization.stores.list().to_df()"
   ],
   "metadata": {
    "collapsed": false
   }
  },
  {
   "cell_type": "code",
   "execution_count": 14,
   "outputs": [
    {
     "data": {
      "text/plain": "                                         ref  template  schema_version  \\\n0  kodexa/taxonomy-template:6.0.0-3857543294      True               1   \n\n  org_slug               slug      type            name  \\\n0   kodexa  taxonomy-template  taxonomy  Data Structure   \n\n                                         description           version  \\\n0  A data structure used for labeling and extract...  6.0.0-3857543294   \n\n                          deployed  ...   provider       provider_url  \\\n0 2023-01-06 18:54:16.567000+00:00  ...  Kodexa AI  https://kodexa.ai   \n\n                                provider_image_url  \\\n0  https://images.kodexa.com/kodexa_square_200.png   \n\n             extension_pack_ref taxonomy_type enabled taxons overlays  \\\n0  kodexa/core:6.0.0-3857543294       CONTENT    True     []       []   \n\n  total_taxons                                             client  \n0            0  <kodexa.platform.client.KodexaClient object at...  \n\n[1 rows x 25 columns]",
      "text/html": "<div>\n<style scoped>\n    .dataframe tbody tr th:only-of-type {\n        vertical-align: middle;\n    }\n\n    .dataframe tbody tr th {\n        vertical-align: top;\n    }\n\n    .dataframe thead th {\n        text-align: right;\n    }\n</style>\n<table border=\"1\" class=\"dataframe\">\n  <thead>\n    <tr style=\"text-align: right;\">\n      <th></th>\n      <th>ref</th>\n      <th>template</th>\n      <th>schema_version</th>\n      <th>org_slug</th>\n      <th>slug</th>\n      <th>type</th>\n      <th>name</th>\n      <th>description</th>\n      <th>version</th>\n      <th>deployed</th>\n      <th>...</th>\n      <th>provider</th>\n      <th>provider_url</th>\n      <th>provider_image_url</th>\n      <th>extension_pack_ref</th>\n      <th>taxonomy_type</th>\n      <th>enabled</th>\n      <th>taxons</th>\n      <th>overlays</th>\n      <th>total_taxons</th>\n      <th>client</th>\n    </tr>\n  </thead>\n  <tbody>\n    <tr>\n      <th>0</th>\n      <td>kodexa/taxonomy-template:6.0.0-3857543294</td>\n      <td>True</td>\n      <td>1</td>\n      <td>kodexa</td>\n      <td>taxonomy-template</td>\n      <td>taxonomy</td>\n      <td>Data Structure</td>\n      <td>A data structure used for labeling and extract...</td>\n      <td>6.0.0-3857543294</td>\n      <td>2023-01-06 18:54:16.567000+00:00</td>\n      <td>...</td>\n      <td>Kodexa AI</td>\n      <td>https://kodexa.ai</td>\n      <td>https://images.kodexa.com/kodexa_square_200.png</td>\n      <td>kodexa/core:6.0.0-3857543294</td>\n      <td>CONTENT</td>\n      <td>True</td>\n      <td>[]</td>\n      <td>[]</td>\n      <td>0</td>\n      <td>&lt;kodexa.platform.client.KodexaClient object at...</td>\n    </tr>\n  </tbody>\n</table>\n<p>1 rows × 25 columns</p>\n</div>"
     },
     "execution_count": 14,
     "metadata": {},
     "output_type": "execute_result"
    }
   ],
   "source": [
    "kodexa_organization.taxonomies.list().to_df()"
   ],
   "metadata": {
    "collapsed": false
   }
  },
  {
   "cell_type": "code",
   "execution_count": 16,
   "outputs": [
    {
     "data": {
      "text/plain": "                                           ref  template  schema_version  \\\n0  kodexa/azure-receipt-project-template:1.0.0      True               1   \n1               kodexa/azure-custom-form:1.0.0      True               1   \n2  kodexa/azure-invoice-project-template:1.0.0      True               1   \n3      kodexa/azure-ocr-project-template:1.0.0      True               1   \n\n  org_slug                            slug             type  \\\n0   kodexa  azure-receipt-project-template  projectTemplate   \n1   kodexa               azure-custom-form  projectTemplate   \n2   kodexa  azure-invoice-project-template  projectTemplate   \n3   kodexa      azure-ocr-project-template  projectTemplate   \n\n                                name  \\\n0      Receipt Processing with Azure   \n1  Trainable Invoice/Form Recognizer   \n2      Invoice Processing with Azure   \n3                     OCR with Azure   \n\n                                         description version  \\\n0        A project for extracting data from receipts   1.0.0   \n1  Applies advanced machine learning to accuratel...   1.0.0   \n2        A project for extracting data from invoices   1.0.0   \n3        A project for extracting data from receipts   1.0.0   \n\n                          deployed  ...  \\\n0 2023-01-08 17:11:18.774000+00:00  ...   \n1 2023-01-08 17:11:21.133000+00:00  ...   \n2 2023-01-08 17:11:19.376000+00:00  ...   \n3 2023-01-08 17:11:20.494000+00:00  ...   \n\n                                              stores  \\\n0  [{'slug': '${project.id}-processing', 'name': ...   \n1  [{'slug': '${project.id}-processing', 'name': ...   \n2  [{'slug': '${project.id}-processing', 'name': ...   \n3  [{'slug': '${project.id}-processing', 'name': ...   \n\n                                          assistants  \\\n0  [{'name': 'Azure Pipeline', 'description': 'In...   \n1  [{'name': 'Processing Assistant', 'description...   \n2  [{'name': 'Azure Pipeline', 'description': 'In...   \n3  [{'name': 'OCR Pipeline', 'description': 'Inte...   \n\n                                          taxonomies  \\\n0  [{'slug': '${project.id}-content', 'name': '${...   \n1  [{'slug': '${project.id}-content', 'name': '${...   \n2  [{'slug': '${project.id}-content', 'name': '${...   \n3  [{'slug': '${project.id}-content', 'name': '${...   \n\n                                          dashboards help_url category  \\\n0                                               None     None     None   \n1  [{'slug': '${project.id}-label-statistics', 'n...     None     None   \n2                                               None     None     None   \n3                                               None     None     None   \n\n                                   document_statuses attribute_statuses  \\\n0                                               None               None   \n1  [{'id': None, 'uuid': None, 'created_on': None...               None   \n2                                               None               None   \n3                                               None               None   \n\n  options                                             client  \n0    None  <kodexa.platform.client.KodexaClient object at...  \n1    None  <kodexa.platform.client.KodexaClient object at...  \n2    None  <kodexa.platform.client.KodexaClient object at...  \n3    None  <kodexa.platform.client.KodexaClient object at...  \n\n[4 rows x 29 columns]",
      "text/html": "<div>\n<style scoped>\n    .dataframe tbody tr th:only-of-type {\n        vertical-align: middle;\n    }\n\n    .dataframe tbody tr th {\n        vertical-align: top;\n    }\n\n    .dataframe thead th {\n        text-align: right;\n    }\n</style>\n<table border=\"1\" class=\"dataframe\">\n  <thead>\n    <tr style=\"text-align: right;\">\n      <th></th>\n      <th>ref</th>\n      <th>template</th>\n      <th>schema_version</th>\n      <th>org_slug</th>\n      <th>slug</th>\n      <th>type</th>\n      <th>name</th>\n      <th>description</th>\n      <th>version</th>\n      <th>deployed</th>\n      <th>...</th>\n      <th>stores</th>\n      <th>assistants</th>\n      <th>taxonomies</th>\n      <th>dashboards</th>\n      <th>help_url</th>\n      <th>category</th>\n      <th>document_statuses</th>\n      <th>attribute_statuses</th>\n      <th>options</th>\n      <th>client</th>\n    </tr>\n  </thead>\n  <tbody>\n    <tr>\n      <th>0</th>\n      <td>kodexa/azure-receipt-project-template:1.0.0</td>\n      <td>True</td>\n      <td>1</td>\n      <td>kodexa</td>\n      <td>azure-receipt-project-template</td>\n      <td>projectTemplate</td>\n      <td>Receipt Processing with Azure</td>\n      <td>A project for extracting data from receipts</td>\n      <td>1.0.0</td>\n      <td>2023-01-08 17:11:18.774000+00:00</td>\n      <td>...</td>\n      <td>[{'slug': '${project.id}-processing', 'name': ...</td>\n      <td>[{'name': 'Azure Pipeline', 'description': 'In...</td>\n      <td>[{'slug': '${project.id}-content', 'name': '${...</td>\n      <td>None</td>\n      <td>None</td>\n      <td>None</td>\n      <td>None</td>\n      <td>None</td>\n      <td>None</td>\n      <td>&lt;kodexa.platform.client.KodexaClient object at...</td>\n    </tr>\n    <tr>\n      <th>1</th>\n      <td>kodexa/azure-custom-form:1.0.0</td>\n      <td>True</td>\n      <td>1</td>\n      <td>kodexa</td>\n      <td>azure-custom-form</td>\n      <td>projectTemplate</td>\n      <td>Trainable Invoice/Form Recognizer</td>\n      <td>Applies advanced machine learning to accuratel...</td>\n      <td>1.0.0</td>\n      <td>2023-01-08 17:11:21.133000+00:00</td>\n      <td>...</td>\n      <td>[{'slug': '${project.id}-processing', 'name': ...</td>\n      <td>[{'name': 'Processing Assistant', 'description...</td>\n      <td>[{'slug': '${project.id}-content', 'name': '${...</td>\n      <td>[{'slug': '${project.id}-label-statistics', 'n...</td>\n      <td>None</td>\n      <td>None</td>\n      <td>[{'id': None, 'uuid': None, 'created_on': None...</td>\n      <td>None</td>\n      <td>None</td>\n      <td>&lt;kodexa.platform.client.KodexaClient object at...</td>\n    </tr>\n    <tr>\n      <th>2</th>\n      <td>kodexa/azure-invoice-project-template:1.0.0</td>\n      <td>True</td>\n      <td>1</td>\n      <td>kodexa</td>\n      <td>azure-invoice-project-template</td>\n      <td>projectTemplate</td>\n      <td>Invoice Processing with Azure</td>\n      <td>A project for extracting data from invoices</td>\n      <td>1.0.0</td>\n      <td>2023-01-08 17:11:19.376000+00:00</td>\n      <td>...</td>\n      <td>[{'slug': '${project.id}-processing', 'name': ...</td>\n      <td>[{'name': 'Azure Pipeline', 'description': 'In...</td>\n      <td>[{'slug': '${project.id}-content', 'name': '${...</td>\n      <td>None</td>\n      <td>None</td>\n      <td>None</td>\n      <td>None</td>\n      <td>None</td>\n      <td>None</td>\n      <td>&lt;kodexa.platform.client.KodexaClient object at...</td>\n    </tr>\n    <tr>\n      <th>3</th>\n      <td>kodexa/azure-ocr-project-template:1.0.0</td>\n      <td>True</td>\n      <td>1</td>\n      <td>kodexa</td>\n      <td>azure-ocr-project-template</td>\n      <td>projectTemplate</td>\n      <td>OCR with Azure</td>\n      <td>A project for extracting data from receipts</td>\n      <td>1.0.0</td>\n      <td>2023-01-08 17:11:20.494000+00:00</td>\n      <td>...</td>\n      <td>[{'slug': '${project.id}-processing', 'name': ...</td>\n      <td>[{'name': 'OCR Pipeline', 'description': 'Inte...</td>\n      <td>[{'slug': '${project.id}-content', 'name': '${...</td>\n      <td>None</td>\n      <td>None</td>\n      <td>None</td>\n      <td>None</td>\n      <td>None</td>\n      <td>None</td>\n      <td>&lt;kodexa.platform.client.KodexaClient object at...</td>\n    </tr>\n  </tbody>\n</table>\n<p>4 rows × 29 columns</p>\n</div>"
     },
     "execution_count": 16,
     "metadata": {},
     "output_type": "execute_result"
    }
   ],
   "source": [
    "kodexa_organization.project_templates.list(query='azure').to_df()"
   ],
   "metadata": {
    "collapsed": false
   }
  }
 ],
 "metadata": {
  "kernelspec": {
   "display_name": "Python 3",
   "language": "python",
   "name": "python3"
  },
  "language_info": {
   "codemirror_mode": {
    "name": "ipython",
    "version": 2
   },
   "file_extension": ".py",
   "mimetype": "text/x-python",
   "name": "python",
   "nbconvert_exporter": "python",
   "pygments_lexer": "ipython2",
   "version": "2.7.6"
  }
 },
 "nbformat": 4,
 "nbformat_minor": 0
}
