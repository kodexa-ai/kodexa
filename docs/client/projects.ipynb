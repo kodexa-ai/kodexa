{
 "cells": [
  {
   "cell_type": "markdown",
   "source": [
    "One of the most important concepts is that of Projects.\n",
    "\n",
    "A project is a locally grouping of components, typically brought together to allow us to solve\n",
    "a specific use-case.\n",
    "\n",
    "Projects are owned by an organization, so the first thing we will typically do is create, or find an existing,\n",
    "organization.\n",
    "\n"
   ],
   "metadata": {
    "collapsed": false
   }
  },
  {
   "cell_type": "code",
   "execution_count": 2,
   "outputs": [
    {
     "data": {
      "text/plain": "                                              client  \\\n0  <kodexa.platform.client.KodexaClient object at...   \n\n                                     id                              uuid  \\\n0  f89d51f5-4905-4bd9-ab06-6ba61f3e7891  5630a279802b4fa69fc4f675a6ac37f6   \n\n                        created_on                       updated_on  \\\n0 2022-12-14 00:48:03.264000+00:00 2022-12-14 00:48:03.264000+00:00   \n\n            name           slug  public_access description  has_image  \n0  Philips World  philips-world          False        None      False  ",
      "text/html": "<div>\n<style scoped>\n    .dataframe tbody tr th:only-of-type {\n        vertical-align: middle;\n    }\n\n    .dataframe tbody tr th {\n        vertical-align: top;\n    }\n\n    .dataframe thead th {\n        text-align: right;\n    }\n</style>\n<table border=\"1\" class=\"dataframe\">\n  <thead>\n    <tr style=\"text-align: right;\">\n      <th></th>\n      <th>client</th>\n      <th>id</th>\n      <th>uuid</th>\n      <th>created_on</th>\n      <th>updated_on</th>\n      <th>name</th>\n      <th>slug</th>\n      <th>public_access</th>\n      <th>description</th>\n      <th>has_image</th>\n    </tr>\n  </thead>\n  <tbody>\n    <tr>\n      <th>0</th>\n      <td>&lt;kodexa.platform.client.KodexaClient object at...</td>\n      <td>f89d51f5-4905-4bd9-ab06-6ba61f3e7891</td>\n      <td>5630a279802b4fa69fc4f675a6ac37f6</td>\n      <td>2022-12-14 00:48:03.264000+00:00</td>\n      <td>2022-12-14 00:48:03.264000+00:00</td>\n      <td>Philips World</td>\n      <td>philips-world</td>\n      <td>False</td>\n      <td>None</td>\n      <td>False</td>\n    </tr>\n  </tbody>\n</table>\n</div>"
     },
     "execution_count": 2,
     "metadata": {},
     "output_type": "execute_result"
    }
   ],
   "source": [
    "from kodexa.platform import KodexaClient\n",
    "\n",
    "client = KodexaClient()\n",
    "\n",
    "client.organizations.list(query='Philip').to_df()"
   ],
   "metadata": {
    "collapsed": false
   }
  },
  {
   "cell_type": "code",
   "execution_count": 7,
   "outputs": [
    {
     "data": {
      "text/plain": "                                     id                              uuid  \\\n0  6d33f7b9-f072-4593-988e-15865999e9b5  06fe6eb8a18b4ad4a9369896a0ee8f03   \n1  4dce973d-0420-413f-9027-1d83606d9085  f1f240ac7fb74ce09a7094583cfd5dcf   \n\n                        created_on                       updated_on  \\\n0 2022-12-20 17:27:16.462000+00:00 2022-12-20 17:27:16.462000+00:00   \n1 2022-12-14 00:48:28.868000+00:00 2022-12-14 00:48:28.868000+00:00   \n\n                                        organization                 name  \\\n0  {'id': 'f89d51f5-4905-4bd9-ab06-6ba61f3e7891',...          BARRO54812A   \n1  {'id': 'f89d51f5-4905-4bd9-ab06-6ba61f3e7891',...  Dae Similar Formats   \n\n                                         description metadata  show_tasks  \\\n0        A project for extracting data from invoices     None       False   \n1  A basic project outline with process and train...     None       False   \n\n   show_thumbnails  has_image  show_search  \\\n0             True      False        False   \n1             True      False        False   \n\n                          project_template_ref                  memory  \\\n0  kodexa/azure-invoice-project-template:1.0.0  {'recent_filters': {}}   \n1        kodexa/empty-project:6.0.0-3594945030  {'recent_filters': {}}   \n\n  document_statuses attribute_statuses  \\\n0                []                 []   \n1                []                 []   \n\n                                              client  \n0  <kodexa.platform.client.KodexaClient object at...  \n1  <kodexa.platform.client.KodexaClient object at...  ",
      "text/html": "<div>\n<style scoped>\n    .dataframe tbody tr th:only-of-type {\n        vertical-align: middle;\n    }\n\n    .dataframe tbody tr th {\n        vertical-align: top;\n    }\n\n    .dataframe thead th {\n        text-align: right;\n    }\n</style>\n<table border=\"1\" class=\"dataframe\">\n  <thead>\n    <tr style=\"text-align: right;\">\n      <th></th>\n      <th>id</th>\n      <th>uuid</th>\n      <th>created_on</th>\n      <th>updated_on</th>\n      <th>organization</th>\n      <th>name</th>\n      <th>description</th>\n      <th>metadata</th>\n      <th>show_tasks</th>\n      <th>show_thumbnails</th>\n      <th>has_image</th>\n      <th>show_search</th>\n      <th>project_template_ref</th>\n      <th>memory</th>\n      <th>document_statuses</th>\n      <th>attribute_statuses</th>\n      <th>client</th>\n    </tr>\n  </thead>\n  <tbody>\n    <tr>\n      <th>0</th>\n      <td>6d33f7b9-f072-4593-988e-15865999e9b5</td>\n      <td>06fe6eb8a18b4ad4a9369896a0ee8f03</td>\n      <td>2022-12-20 17:27:16.462000+00:00</td>\n      <td>2022-12-20 17:27:16.462000+00:00</td>\n      <td>{'id': 'f89d51f5-4905-4bd9-ab06-6ba61f3e7891',...</td>\n      <td>BARRO54812A</td>\n      <td>A project for extracting data from invoices</td>\n      <td>None</td>\n      <td>False</td>\n      <td>True</td>\n      <td>False</td>\n      <td>False</td>\n      <td>kodexa/azure-invoice-project-template:1.0.0</td>\n      <td>{'recent_filters': {}}</td>\n      <td>[]</td>\n      <td>[]</td>\n      <td>&lt;kodexa.platform.client.KodexaClient object at...</td>\n    </tr>\n    <tr>\n      <th>1</th>\n      <td>4dce973d-0420-413f-9027-1d83606d9085</td>\n      <td>f1f240ac7fb74ce09a7094583cfd5dcf</td>\n      <td>2022-12-14 00:48:28.868000+00:00</td>\n      <td>2022-12-14 00:48:28.868000+00:00</td>\n      <td>{'id': 'f89d51f5-4905-4bd9-ab06-6ba61f3e7891',...</td>\n      <td>Dae Similar Formats</td>\n      <td>A basic project outline with process and train...</td>\n      <td>None</td>\n      <td>False</td>\n      <td>True</td>\n      <td>False</td>\n      <td>False</td>\n      <td>kodexa/empty-project:6.0.0-3594945030</td>\n      <td>{'recent_filters': {}}</td>\n      <td>[]</td>\n      <td>[]</td>\n      <td>&lt;kodexa.platform.client.KodexaClient object at...</td>\n    </tr>\n  </tbody>\n</table>\n</div>"
     },
     "execution_count": 7,
     "metadata": {},
     "output_type": "execute_result"
    }
   ],
   "source": [
    "philips_organization = client.organizations.find_by_slug('philips-world')\n",
    "\n",
    "philips_organization.projects.list().to_df()"
   ],
   "metadata": {
    "collapsed": false
   }
  },
  {
   "cell_type": "markdown",
   "source": [
    "We can find a project by its name or ID, then we will be able to work with the project endpoint"
   ],
   "metadata": {
    "collapsed": false
   }
  },
  {
   "cell_type": "code",
   "execution_count": 9,
   "outputs": [
    {
     "data": {
      "text/plain": "'4dce973d-0420-413f-9027-1d83606d9085'"
     },
     "execution_count": 9,
     "metadata": {},
     "output_type": "execute_result"
    }
   ],
   "source": [
    "my_project = philips_organization.projects.find_by_name('Dae Similar Formats')\n",
    "\n",
    "my_project.id"
   ],
   "metadata": {
    "collapsed": false
   }
  },
  {
   "cell_type": "markdown",
   "source": [
    "*Note* that when we get a project from the client we will end up with an \"Endpoint\" model which means we can actually\n",
    "interact with the object to work with the server.\n",
    "\n",
    "## Associated Components\n",
    "\n",
    "A project is a logical grouping of components, those components have accessors from the project endpoint instance that\n",
    "allow us to work with them.\n",
    "\n",
    "For example lets get a list of the document stores:"
   ],
   "metadata": {
    "collapsed": false
   }
  },
  {
   "cell_type": "code",
   "execution_count": 13,
   "outputs": [
    {
     "data": {
      "text/plain": "                                                 ref  template  \\\n0  philips-world/4dce973d-0420-413f-9027-1d83606d...     False   \n1  philips-world/4dce973d-0420-413f-9027-1d83606d...     False   \n\n   schema_version       org_slug  \\\n0               1  philips-world   \n1               1  philips-world   \n\n                                              slug   type        name  \\\n0  4dce973d-0420-413f-9027-1d83606d9085-processing  store  Processing   \n1    4dce973d-0420-413f-9027-1d83606d9085-training  store    Training   \n\n                                         description version  \\\n0  A processing store for project Dae Similar For...   1.0.0   \n1   A training store for project Dae Similar Formats   1.0.0   \n\n                          deployed  ...  metadata store_type searchable  \\\n0 2022-12-14 00:48:28.937000+00:00  ...        {}   DOCUMENT      False   \n1 2022-12-14 00:48:33.509000+00:00  ...      None   DOCUMENT      False   \n\n  store_purpose                                       view_options  \\\n0   OPERATIONAL  {'show_last_event': True, 'show_extension': Fa...   \n1      TRAINING  {'show_last_event': True, 'show_extension': Fa...   \n\n  view_presets show_thumbnails showSearch allowDataEditing  \\\n0           []            None       None            False   \n1           []            None       None            False   \n\n                                              client  \n0  <kodexa.platform.client.KodexaClient object at...  \n1  <kodexa.platform.client.KodexaClient object at...  \n\n[2 rows x 29 columns]",
      "text/html": "<div>\n<style scoped>\n    .dataframe tbody tr th:only-of-type {\n        vertical-align: middle;\n    }\n\n    .dataframe tbody tr th {\n        vertical-align: top;\n    }\n\n    .dataframe thead th {\n        text-align: right;\n    }\n</style>\n<table border=\"1\" class=\"dataframe\">\n  <thead>\n    <tr style=\"text-align: right;\">\n      <th></th>\n      <th>ref</th>\n      <th>template</th>\n      <th>schema_version</th>\n      <th>org_slug</th>\n      <th>slug</th>\n      <th>type</th>\n      <th>name</th>\n      <th>description</th>\n      <th>version</th>\n      <th>deployed</th>\n      <th>...</th>\n      <th>metadata</th>\n      <th>store_type</th>\n      <th>searchable</th>\n      <th>store_purpose</th>\n      <th>view_options</th>\n      <th>view_presets</th>\n      <th>show_thumbnails</th>\n      <th>showSearch</th>\n      <th>allowDataEditing</th>\n      <th>client</th>\n    </tr>\n  </thead>\n  <tbody>\n    <tr>\n      <th>0</th>\n      <td>philips-world/4dce973d-0420-413f-9027-1d83606d...</td>\n      <td>False</td>\n      <td>1</td>\n      <td>philips-world</td>\n      <td>4dce973d-0420-413f-9027-1d83606d9085-processing</td>\n      <td>store</td>\n      <td>Processing</td>\n      <td>A processing store for project Dae Similar For...</td>\n      <td>1.0.0</td>\n      <td>2022-12-14 00:48:28.937000+00:00</td>\n      <td>...</td>\n      <td>{}</td>\n      <td>DOCUMENT</td>\n      <td>False</td>\n      <td>OPERATIONAL</td>\n      <td>{'show_last_event': True, 'show_extension': Fa...</td>\n      <td>[]</td>\n      <td>None</td>\n      <td>None</td>\n      <td>False</td>\n      <td>&lt;kodexa.platform.client.KodexaClient object at...</td>\n    </tr>\n    <tr>\n      <th>1</th>\n      <td>philips-world/4dce973d-0420-413f-9027-1d83606d...</td>\n      <td>False</td>\n      <td>1</td>\n      <td>philips-world</td>\n      <td>4dce973d-0420-413f-9027-1d83606d9085-training</td>\n      <td>store</td>\n      <td>Training</td>\n      <td>A training store for project Dae Similar Formats</td>\n      <td>1.0.0</td>\n      <td>2022-12-14 00:48:33.509000+00:00</td>\n      <td>...</td>\n      <td>None</td>\n      <td>DOCUMENT</td>\n      <td>False</td>\n      <td>TRAINING</td>\n      <td>{'show_last_event': True, 'show_extension': Fa...</td>\n      <td>[]</td>\n      <td>None</td>\n      <td>None</td>\n      <td>False</td>\n      <td>&lt;kodexa.platform.client.KodexaClient object at...</td>\n    </tr>\n  </tbody>\n</table>\n<p>2 rows × 29 columns</p>\n</div>"
     },
     "execution_count": 13,
     "metadata": {},
     "output_type": "execute_result"
    }
   ],
   "source": [
    "my_project.document_stores.to_df()"
   ],
   "metadata": {
    "collapsed": false
   }
  }
 ],
 "metadata": {
  "kernelspec": {
   "display_name": "Python 3",
   "language": "python",
   "name": "python3"
  },
  "language_info": {
   "codemirror_mode": {
    "name": "ipython",
    "version": 2
   },
   "file_extension": ".py",
   "mimetype": "text/x-python",
   "name": "python",
   "nbconvert_exporter": "python",
   "pygments_lexer": "ipython2",
   "version": "2.7.6"
  }
 },
 "nbformat": 4,
 "nbformat_minor": 0
}
