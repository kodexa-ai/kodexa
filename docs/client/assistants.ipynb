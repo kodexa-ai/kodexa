{
 "cells": [
  {
   "cell_type": "markdown",
   "source": [
    "Another important concept to understand is the use of Assistants.\n",
    "\n",
    "Assistants are based on an Assistant Definition, though you create an instance of the assistant on a specific project.\n",
    "\n",
    "The assistant is responsible for handling events that occur within the scope of the project and its resources. It will then return pipelines that can be processed to effect change in the project.\n",
    "\n"
   ],
   "metadata": {
    "collapsed": false
   }
  },
  {
   "cell_type": "code",
   "execution_count": 1,
   "outputs": [
    {
     "data": {
      "text/plain": "                                     id                              uuid  \\\n0  6d33f7b9-f072-4593-988e-15865999e9b5  06fe6eb8a18b4ad4a9369896a0ee8f03   \n1  4dce973d-0420-413f-9027-1d83606d9085  f1f240ac7fb74ce09a7094583cfd5dcf   \n\n                        created_on                       updated_on  \\\n0 2022-12-20 17:27:16.462000+00:00 2022-12-20 17:27:16.462000+00:00   \n1 2022-12-14 00:48:28.868000+00:00 2022-12-14 00:48:28.868000+00:00   \n\n                                        organization                 name  \\\n0  {'id': 'f89d51f5-4905-4bd9-ab06-6ba61f3e7891',...          BARRO54812A   \n1  {'id': 'f89d51f5-4905-4bd9-ab06-6ba61f3e7891',...  Dae Similar Formats   \n\n                                         description metadata  show_tasks  \\\n0        A project for extracting data from invoices     None       False   \n1  A basic project outline with process and train...     None       False   \n\n   show_thumbnails  ...  show_search  show_tooltips_on_labeling  has_image  \\\n0             True  ...        False                      False      False   \n1             True  ...        False                      False      False   \n\n                          project_template_ref                  memory  \\\n0  kodexa/azure-invoice-project-template:1.0.0  {'recent_filters': {}}   \n1        kodexa/empty-project:6.0.0-3594945030  {'recent_filters': {}}   \n\n  document_statuses attribute_statuses status owner  \\\n0                []                 []   None  None   \n1                []                 []   None  None   \n\n                                              client  \n0  <kodexa.platform.client.KodexaClient object at...  \n1  <kodexa.platform.client.KodexaClient object at...  \n\n[2 rows x 22 columns]",
      "text/html": "<div>\n<style scoped>\n    .dataframe tbody tr th:only-of-type {\n        vertical-align: middle;\n    }\n\n    .dataframe tbody tr th {\n        vertical-align: top;\n    }\n\n    .dataframe thead th {\n        text-align: right;\n    }\n</style>\n<table border=\"1\" class=\"dataframe\">\n  <thead>\n    <tr style=\"text-align: right;\">\n      <th></th>\n      <th>id</th>\n      <th>uuid</th>\n      <th>created_on</th>\n      <th>updated_on</th>\n      <th>organization</th>\n      <th>name</th>\n      <th>description</th>\n      <th>metadata</th>\n      <th>show_tasks</th>\n      <th>show_thumbnails</th>\n      <th>...</th>\n      <th>show_search</th>\n      <th>show_tooltips_on_labeling</th>\n      <th>has_image</th>\n      <th>project_template_ref</th>\n      <th>memory</th>\n      <th>document_statuses</th>\n      <th>attribute_statuses</th>\n      <th>status</th>\n      <th>owner</th>\n      <th>client</th>\n    </tr>\n  </thead>\n  <tbody>\n    <tr>\n      <th>0</th>\n      <td>6d33f7b9-f072-4593-988e-15865999e9b5</td>\n      <td>06fe6eb8a18b4ad4a9369896a0ee8f03</td>\n      <td>2022-12-20 17:27:16.462000+00:00</td>\n      <td>2022-12-20 17:27:16.462000+00:00</td>\n      <td>{'id': 'f89d51f5-4905-4bd9-ab06-6ba61f3e7891',...</td>\n      <td>BARRO54812A</td>\n      <td>A project for extracting data from invoices</td>\n      <td>None</td>\n      <td>False</td>\n      <td>True</td>\n      <td>...</td>\n      <td>False</td>\n      <td>False</td>\n      <td>False</td>\n      <td>kodexa/azure-invoice-project-template:1.0.0</td>\n      <td>{'recent_filters': {}}</td>\n      <td>[]</td>\n      <td>[]</td>\n      <td>None</td>\n      <td>None</td>\n      <td>&lt;kodexa.platform.client.KodexaClient object at...</td>\n    </tr>\n    <tr>\n      <th>1</th>\n      <td>4dce973d-0420-413f-9027-1d83606d9085</td>\n      <td>f1f240ac7fb74ce09a7094583cfd5dcf</td>\n      <td>2022-12-14 00:48:28.868000+00:00</td>\n      <td>2022-12-14 00:48:28.868000+00:00</td>\n      <td>{'id': 'f89d51f5-4905-4bd9-ab06-6ba61f3e7891',...</td>\n      <td>Dae Similar Formats</td>\n      <td>A basic project outline with process and train...</td>\n      <td>None</td>\n      <td>False</td>\n      <td>True</td>\n      <td>...</td>\n      <td>False</td>\n      <td>False</td>\n      <td>False</td>\n      <td>kodexa/empty-project:6.0.0-3594945030</td>\n      <td>{'recent_filters': {}}</td>\n      <td>[]</td>\n      <td>[]</td>\n      <td>None</td>\n      <td>None</td>\n      <td>&lt;kodexa.platform.client.KodexaClient object at...</td>\n    </tr>\n  </tbody>\n</table>\n<p>2 rows × 22 columns</p>\n</div>"
     },
     "execution_count": 1,
     "metadata": {},
     "output_type": "execute_result"
    }
   ],
   "source": [
    "from kodexa.platform import KodexaClient\n",
    "\n",
    "client = KodexaClient()\n",
    "\n",
    "client.organizations.list(query='Philip').to_df()\n",
    "philips_organization = client.organizations.find_by_slug('philips-world')\n",
    "philips_organization.projects.list().to_df()"
   ],
   "metadata": {
    "collapsed": false
   }
  },
  {
   "cell_type": "markdown",
   "source": [
    "We can find a project by its name or ID, then we will be able to work with the project endpoint"
   ],
   "metadata": {
    "collapsed": false
   }
  },
  {
   "cell_type": "code",
   "execution_count": 2,
   "outputs": [
    {
     "data": {
      "text/plain": "'Pipeline Assistant'"
     },
     "execution_count": 2,
     "metadata": {},
     "output_type": "execute_result"
    }
   ],
   "source": [
    "my_project = philips_organization.projects.find_by_name('Dae Similar Formats')\n",
    "\n",
    "my_project.assistants.list()[0].name"
   ],
   "metadata": {
    "collapsed": false
   }
  }
 ],
 "metadata": {
  "kernelspec": {
   "display_name": "Python 3",
   "language": "python",
   "name": "python3"
  },
  "language_info": {
   "codemirror_mode": {
    "name": "ipython",
    "version": 2
   },
   "file_extension": ".py",
   "mimetype": "text/x-python",
   "name": "python",
   "nbconvert_exporter": "python",
   "pygments_lexer": "ipython2",
   "version": "2.7.6"
  }
 },
 "nbformat": 4,
 "nbformat_minor": 0
}
