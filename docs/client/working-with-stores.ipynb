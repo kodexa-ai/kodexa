{
 "cells": [
  {
   "cell_type": "markdown",
   "source": [
    "Kodexa supports different types of \"Store\".\n",
    "\n",
    "A store can be used to hold documents, structured data or models.\n",
    "\n",
    "In this notebook we will demonstrate creating a store in a demo organization for the storage of documents.\n",
    "\n",
    "First lets go and get a client instance and our organization, and the associated stores.\n",
    "\n",
    "_Note_: In order to run this notebook you will need to have a Kodexa account and have created an organization, then create a new PDF project.\n"
   ],
   "metadata": {
    "collapsed": false
   }
  },
  {
   "cell_type": "code",
   "execution_count": 1,
   "outputs": [
    {
     "name": "stdout",
     "output_type": "stream",
     "text": [
      "Processing\n"
     ]
    }
   ],
   "source": [
    "from kodexa.platform import KodexaClient\n",
    "\n",
    "client = KodexaClient()\n",
    "\n",
    "philips_organization = client.organizations.find_by_slug('philip-demo')\n",
    "demo_project = philips_organization.projects.find_by_name('Document Demo')\n",
    "document_store = demo_project.document_stores.find_by_name('Processing')\n",
    "\n",
    "print(document_store.name)"
   ],
   "metadata": {
    "collapsed": false,
    "ExecuteTime": {
     "end_time": "2023-09-29T10:24:03.291086Z",
     "start_time": "2023-09-29T10:24:01.150983Z"
    }
   }
  },
  {
   "cell_type": "markdown",
   "source": [
    "Now we have the store we can use this to upload documents,\n",
    "note that since we are uploading a PDF we call \"upload_file\"\n",
    "\n",
    "It will return the document family that was created for the document"
   ],
   "metadata": {
    "collapsed": false
   }
  },
  {
   "cell_type": "code",
   "execution_count": 2,
   "outputs": [],
   "source": [
    "document_family = document_store.upload_file('sample.pdf')"
   ],
   "metadata": {
    "collapsed": false,
    "ExecuteTime": {
     "end_time": "2023-09-29T10:24:04.370874Z",
     "start_time": "2023-09-29T10:24:03.291353Z"
    }
   }
  },
  {
   "cell_type": "markdown",
   "source": [
    "The document family contains all the information for the file that was uploaded.\n",
    "\n",
    "It also contains a unique identifier that can be used to work with the document later"
   ],
   "metadata": {
    "collapsed": false
   }
  },
  {
   "cell_type": "code",
   "execution_count": 3,
   "outputs": [
    {
     "data": {
      "text/plain": "DocumentFamilyEndpoint(client=<kodexa.platform.client.KodexaClient object at 0x1054cf5e0>, ref=None, id='decbfc8f-0747-4834-8f98-de7b5f06f4d3', uuid='574d586fcdb941d984a56365cf82bc65', change_sequence=3, created_on=datetime.datetime(2023, 9, 29, 10, 24, 3, 955000, tzinfo=TzInfo(UTC)), updated_on=datetime.datetime(2023, 9, 29, 10, 24, 4, 252000, tzinfo=TzInfo(UTC)), document_status=None, assignments=[], store_ref='philip-demo/a318fc05-ca49-48fc-a4f4-9bfb05ada2fa-processing:1.0.0', path='sample.pdf', locked=False, created=datetime.datetime(2023, 9, 29, 10, 24, 3, 482000, tzinfo=TzInfo(UTC)), modified=datetime.datetime(2023, 9, 29, 10, 24, 4, 96000, tzinfo=TzInfo(UTC)), size=3028, indexed=False, content_objects=[ContentObject(id='cf20279b-11f3-485b-a87b-dccd8718c475', uuid=None, change_sequence=2, created_on=None, updated_on=None, content_type='NATIVE', document_version=None, index=None, labels=[], metadata=None, mixins=[], created=datetime.datetime(2023, 9, 29, 10, 24, 3, 491000, tzinfo=TzInfo(UTC)), modified=datetime.datetime(2023, 9, 29, 10, 24, 3, 491000, tzinfo=TzInfo(UTC)), size=3028, store_ref=None, document_family_id=None), ContentObject(id='68ebafce-5c21-4d33-be22-566d7071342a', uuid=None, change_sequence=2, created_on=None, updated_on=None, content_type='DOCUMENT', document_version=None, index=None, labels=[], metadata=None, mixins=[], created=datetime.datetime(2023, 9, 29, 10, 24, 3, 868000, tzinfo=TzInfo(UTC)), modified=datetime.datetime(2023, 9, 29, 10, 24, 3, 868000, tzinfo=TzInfo(UTC)), size=69632, store_ref=None, document_family_id=None)], content_exceptions=[], transitions=[DocumentTransition(id='2f9bd1ee-77ea-4e43-a55f-05bb72be4a45', uuid='c304ef4a-0904-4c1f-8261-4e777a211fcb', change_sequence=0, created_on=datetime.datetime(2023, 9, 29, 10, 24, 3, 966000, tzinfo=TzInfo(UTC)), updated_on=datetime.datetime(2023, 9, 29, 10, 24, 3, 966000, tzinfo=TzInfo(UTC)), unknown_fields=None, transition_type='DERIVED', index=0, date_time=datetime.datetime(2023, 9, 29, 10, 24, 3, 893000, tzinfo=TzInfo(UTC)), actor=DocumentActor(actor_id=None, actor_type=None), label=None, source_content_object_id=None, destination_content_object_id=None)], labels=[], mixins=[], metadata={'path': 'sample.pdf'}, metadata_source={}, statistics=DocumentFamilyStatistics(path_counts=None, recent_executions=None), label_statistics=LabelStatistics(label_counts=None, average_label_confidence=None, max_label_confidence=None, min_label_confidence=None))"
     },
     "execution_count": 3,
     "metadata": {},
     "output_type": "execute_result"
    }
   ],
   "source": [
    "document_family"
   ],
   "metadata": {
    "collapsed": false,
    "ExecuteTime": {
     "end_time": "2023-09-29T10:24:13.952761Z",
     "start_time": "2023-09-29T10:24:13.949251Z"
    }
   }
  }
 ],
 "metadata": {
  "kernelspec": {
   "display_name": "Python 3",
   "language": "python",
   "name": "python3"
  },
  "language_info": {
   "codemirror_mode": {
    "name": "ipython",
    "version": 2
   },
   "file_extension": ".py",
   "mimetype": "text/x-python",
   "name": "python",
   "nbconvert_exporter": "python",
   "pygments_lexer": "ipython2",
   "version": "2.7.6"
  }
 },
 "nbformat": 4,
 "nbformat_minor": 0
}
