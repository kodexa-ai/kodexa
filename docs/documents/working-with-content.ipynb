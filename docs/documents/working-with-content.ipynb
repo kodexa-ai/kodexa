{
 "cells": [
  {
   "cell_type": "markdown",
   "source": [
    "## Content Nodes\n",
    "\n",
    "The content nodes are the core of the document. They are the building blocks of the document, and are\n",
    "used to represent the content of the document. They are organized in a tree structure, and can be queried using Selectors."
   ],
   "metadata": {
    "collapsed": false
   }
  }
 ],
 "metadata": {
  "kernelspec": {
   "display_name": "Python 3",
   "language": "python",
   "name": "python3"
  },
  "language_info": {
   "codemirror_mode": {
    "name": "ipython",
    "version": 2
   },
   "file_extension": ".py",
   "mimetype": "text/x-python",
   "name": "python",
   "nbconvert_exporter": "python",
   "pygments_lexer": "ipython2",
   "version": "2.7.6"
  }
 },
 "nbformat": 4,
 "nbformat_minor": 0
}
