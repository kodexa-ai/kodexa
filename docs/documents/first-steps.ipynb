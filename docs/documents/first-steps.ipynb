{
 "cells": [
  {
   "cell_type": "markdown",
   "source": [
    "# Creating a Document\n",
    "\n",
    "Typically one of the first steps in Kodexa is create a new document. For this example, lets\n",
    "assume that we have a document in PDF form.\n",
    "\n",
    "We can simply create the document, referencing the PDF file."
   ],
   "metadata": {
    "collapsed": false
   }
  },
  {
   "cell_type": "code",
   "execution_count": 3,
   "outputs": [],
   "source": [
    "from kodexa import Document\n",
    "\n",
    "my_document = Document.from_file('example.pdf')"
   ],
   "metadata": {
    "collapsed": false
   }
  },
  {
   "cell_type": "markdown",
   "source": [
    "This step doesn't parse the document, or open the PDF at all. However, it is an important first step\n",
    "in understanding how Kodexa works. At this point we will a have an empty document, with a reference\n",
    "to the PDF file.\n",
    "\n",
    "In fact, we can tell that it is empty by simply counting the number of nodes in the document."
   ],
   "metadata": {
    "collapsed": false
   }
  },
  {
   "cell_type": "code",
   "execution_count": 18,
   "outputs": [
    {
     "name": "stdout",
     "output_type": "stream",
     "text": [
      "[]\n"
     ]
    }
   ],
   "source": [
    "print(my_document.select('//*'))"
   ],
   "metadata": {
    "collapsed": false
   }
  },
  {
   "cell_type": "markdown",
   "source": [
    "However, metadata has been added to the new document to allow Kodexa to understand where it can\n",
    "find the original document."
   ],
   "metadata": {
    "collapsed": false
   }
  },
  {
   "cell_type": "code",
   "execution_count": 17,
   "outputs": [
    {
     "name": "stdout",
     "output_type": "stream",
     "text": [
      "SourceMetadata(original_filename='example.pdf', original_path='example.pdf', checksum=None, cid=None, last_modified=None, created=None, connector='file-handle', mime_type=None, headers=None, lineage_document_uuid=None, source_document_uuid=None, pdf_document_uuid=None)\n"
     ]
    }
   ],
   "source": [
    "print(my_document.source)"
   ],
   "metadata": {
    "collapsed": false
   }
  },
  {
   "cell_type": "markdown",
   "source": [
    "# Saving a Document\n",
    "\n",
    "A document can be saved to a file, or to a store. In this example we will save the document to a\n",
    "local file. By default, the document will be saved in the Kodexa format, which is a SQLite database."
   ],
   "metadata": {
    "collapsed": false
   }
  },
  {
   "cell_type": "code",
   "execution_count": null,
   "outputs": [],
   "source": [
    "my_document.to_kddb('my-document.kddb')"
   ],
   "metadata": {
    "collapsed": false
   }
  },
  {
   "cell_type": "markdown",
   "source": [
    "Note: By convention we store Kodexa documents in files with the extension .kddb (Kodexa Document Database)\n",
    "\n",
    "# Loading a Document\n",
    "\n",
    "A document can be loaded from a file, or from a store. In this example we will load the document from a\n",
    "local file. By default the document will be loaded from the Kodexa format, which is a SQLite database.\n"
   ],
   "metadata": {
    "collapsed": false
   }
  },
  {
   "cell_type": "code",
   "execution_count": null,
   "outputs": [],
   "source": [
    "another_document = Document.from_kddb('my-document.kddb')"
   ],
   "metadata": {
    "collapsed": false
   }
  },
  {
   "cell_type": "markdown",
   "source": [
    "## Detached Documents\n",
    "\n",
    "When a document is loaded from a file by default any changes you make are then made to the file immediately. This is\n",
    "useful for many use cases, but sometimes you want to make changes to a document without affecting the original file.\n",
    "\n",
    "For example, you may want to make changes to a document, but not save them until you are sure that they are correct.\n",
    "\n",
    "To do this you can load the document in detached mode."
   ],
   "metadata": {
    "collapsed": false
   }
  },
  {
   "cell_type": "code",
   "execution_count": null,
   "outputs": [],
   "source": [
    "detached_document = Document.from_kddb('my-document.kddb', detached=True)"
   ],
   "metadata": {
    "collapsed": false
   }
  },
  {
   "cell_type": "markdown",
   "source": [
    "# Anatomy of a Document\n",
    "\n",
    "The Document class manages several key peices of information:\n",
    "\n",
    "## Metadata\n",
    "\n",
    "Metadata about the document, such as the source, the title, the author, etc. This is simply a dictionary.\n"
   ],
   "metadata": {
    "collapsed": false
   }
  },
  {
   "cell_type": "code",
   "execution_count": 19,
   "outputs": [
    {
     "name": "stdout",
     "output_type": "stream",
     "text": [
      "{'connector': 'file-handle', 'connector_options': {'file': 'example.pdf'}}\n"
     ]
    }
   ],
   "source": [
    "print(my_document.metadata)"
   ],
   "metadata": {
    "collapsed": false
   }
  },
  {
   "cell_type": "markdown",
   "source": [
    "## SourceMetadata\n",
    "\n",
    "Metadata about the source document. This works with the connectors to allow you to get the original\n",
    "source document."
   ],
   "metadata": {
    "collapsed": false
   }
  },
  {
   "cell_type": "code",
   "execution_count": 20,
   "outputs": [
    {
     "name": "stdout",
     "output_type": "stream",
     "text": [
      "SourceMetadata(original_filename='example.pdf', original_path='example.pdf', checksum=None, cid=None, last_modified=None, created=None, connector='file-handle', mime_type=None, headers=None, lineage_document_uuid=None, source_document_uuid=None, pdf_document_uuid=None)\n"
     ]
    }
   ],
   "source": [
    "print(my_document.source)"
   ],
   "metadata": {
    "collapsed": false
   }
  },
  {
   "cell_type": "markdown",
   "source": [],
   "metadata": {
    "collapsed": false
   }
  }
 ],
 "metadata": {
  "kernelspec": {
   "display_name": "Python 3",
   "language": "python",
   "name": "python3"
  },
  "language_info": {
   "codemirror_mode": {
    "name": "ipython",
    "version": 2
   },
   "file_extension": ".py",
   "mimetype": "text/x-python",
   "name": "python",
   "nbconvert_exporter": "python",
   "pygments_lexer": "ipython2",
   "version": "2.7.6"
  }
 },
 "nbformat": 4,
 "nbformat_minor": 0
}
