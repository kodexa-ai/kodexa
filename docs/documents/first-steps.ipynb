{
 "cells": [
  {
   "cell_type": "markdown",
   "source": [
    "# Creating a Document\n",
    "\n",
    "Typically one of the first steps in Kodexa is create a new document. For this example, lets\n",
    "assume that we have a document in PDF form.\n",
    "\n",
    "We can simply create the document, referencing the PDF file."
   ],
   "metadata": {
    "collapsed": false
   }
  },
  {
   "cell_type": "code",
   "execution_count": 1,
   "outputs": [],
   "source": [
    "from kodexa import Document\n",
    "\n",
    "my_document = Document.from_file('example.pdf')"
   ],
   "metadata": {
    "collapsed": false
   }
  },
  {
   "cell_type": "markdown",
   "source": [
    "This step doesn't parse the document, or open the PDF at all. However, it is an important first step\n",
    "in understanding how Kodexa works. At this point we will a have an empty document, with a reference\n",
    "to the PDF file.\n",
    "\n",
    "In fact, we can tell that it is empty by simply counting the number of nodes in the document."
   ],
   "metadata": {
    "collapsed": false
   }
  },
  {
   "cell_type": "code",
   "execution_count": 2,
   "outputs": [
    {
     "name": "stdout",
     "output_type": "stream",
     "text": [
      "[]\n"
     ]
    }
   ],
   "source": [
    "print(my_document.select('//*'))"
   ],
   "metadata": {
    "collapsed": false
   }
  },
  {
   "cell_type": "markdown",
   "source": [
    "However, metadata has been added to the new document to allow Kodexa to understand where it can\n",
    "find the original document."
   ],
   "metadata": {
    "collapsed": false
   }
  },
  {
   "cell_type": "code",
   "execution_count": 3,
   "outputs": [
    {
     "name": "stdout",
     "output_type": "stream",
     "text": [
      "SourceMetadata(original_filename='example.pdf', original_path='example.pdf', checksum=None, cid=None, last_modified=None, created=None, connector='file-handle', mime_type=None, headers=None, lineage_document_uuid=None, source_document_uuid=None, pdf_document_uuid=None)\n"
     ]
    }
   ],
   "source": [
    "print(my_document.source)"
   ],
   "metadata": {
    "collapsed": false
   }
  },
  {
   "cell_type": "markdown",
   "source": [
    "# Saving a Document\n",
    "\n",
    "A document can be saved to a file, or to a store. In this example we will save the document to a\n",
    "local file. By default, the document will be saved in the Kodexa format, which is a SQLite database."
   ],
   "metadata": {
    "collapsed": false
   }
  },
  {
   "cell_type": "code",
   "execution_count": 4,
   "outputs": [],
   "source": [
    "my_document.to_kddb('my-document.kddb')"
   ],
   "metadata": {
    "collapsed": false
   }
  },
  {
   "cell_type": "markdown",
   "source": [
    "Note: By convention we store Kodexa documents in files with the extension .kddb (Kodexa Document Database)\n",
    "\n",
    "# Loading a Document\n",
    "\n",
    "A document can be loaded from a file, or from a store. In this example we will load the document from a\n",
    "local file. By default the document will be loaded from the Kodexa format, which is a SQLite database.\n"
   ],
   "metadata": {
    "collapsed": false
   }
  },
  {
   "cell_type": "code",
   "execution_count": 5,
   "outputs": [],
   "source": [
    "another_document = Document.from_kddb('my-document.kddb')"
   ],
   "metadata": {
    "collapsed": false
   }
  },
  {
   "cell_type": "markdown",
   "source": [
    "## Detached Documents\n",
    "\n",
    "When a document is loaded from a file by default any changes you make are then made to the file immediately. This is\n",
    "useful for many use cases, but sometimes you want to make changes to a document without affecting the original file.\n",
    "\n",
    "For example, you may want to make changes to a document, but not save them until you are sure that they are correct.\n",
    "\n",
    "To do this you can load the document in detached mode."
   ],
   "metadata": {
    "collapsed": false
   }
  },
  {
   "cell_type": "code",
   "execution_count": 6,
   "outputs": [
    {
     "ename": "OperationalError",
     "evalue": "database is locked",
     "output_type": "error",
     "traceback": [
      "\u001B[0;31m---------------------------------------------------------------------------\u001B[0m",
      "\u001B[0;31mOperationalError\u001B[0m                          Traceback (most recent call last)",
      "Cell \u001B[0;32mIn[6], line 1\u001B[0m\n\u001B[0;32m----> 1\u001B[0m detached_document \u001B[38;5;241m=\u001B[39m \u001B[43mDocument\u001B[49m\u001B[38;5;241;43m.\u001B[39;49m\u001B[43mfrom_kddb\u001B[49m\u001B[43m(\u001B[49m\u001B[38;5;124;43m'\u001B[39;49m\u001B[38;5;124;43mmy-document.kddb\u001B[39;49m\u001B[38;5;124;43m'\u001B[39;49m\u001B[43m,\u001B[49m\u001B[43m \u001B[49m\u001B[43mdetached\u001B[49m\u001B[38;5;241;43m=\u001B[39;49m\u001B[38;5;28;43;01mTrue\u001B[39;49;00m\u001B[43m)\u001B[49m\n",
      "File \u001B[0;32m~/src/kodexa/kodexa/kodexa/model/model.py:2154\u001B[0m, in \u001B[0;36mDocument.from_kddb\u001B[0;34m(cls, source, detached)\u001B[0m\n\u001B[1;32m   2152\u001B[0m \u001B[38;5;28;01mif\u001B[39;00m \u001B[38;5;28misinstance\u001B[39m(source, \u001B[38;5;28mstr\u001B[39m):\n\u001B[1;32m   2153\u001B[0m     \u001B[38;5;28;01mif\u001B[39;00m \u001B[38;5;28misinstance\u001B[39m(source, \u001B[38;5;28mstr\u001B[39m):\n\u001B[0;32m-> 2154\u001B[0m         document \u001B[38;5;241m=\u001B[39m \u001B[43mDocument\u001B[49m\u001B[43m(\u001B[49m\u001B[43mkddb_path\u001B[49m\u001B[38;5;241;43m=\u001B[39;49m\u001B[43msource\u001B[49m\u001B[43m)\u001B[49m\n\u001B[1;32m   2155\u001B[0m     \u001B[38;5;28;01mif\u001B[39;00m detached:\n\u001B[1;32m   2156\u001B[0m         \u001B[38;5;28;01mreturn\u001B[39;00m Document\u001B[38;5;241m.\u001B[39mfrom_kddb(document\u001B[38;5;241m.\u001B[39mto_kddb())\n",
      "File \u001B[0;32m~/src/kodexa/kodexa/kodexa/model/model.py:1755\u001B[0m, in \u001B[0;36mDocument.__init__\u001B[0;34m(self, metadata, content_node, source, ref, kddb_path, delete_on_close)\u001B[0m\n\u001B[1;32m   1750\u001B[0m \u001B[38;5;28;01mfrom\u001B[39;00m \u001B[38;5;21;01mkodexa\u001B[39;00m\u001B[38;5;21;01m.\u001B[39;00m\u001B[38;5;21;01mmodel\u001B[39;00m \u001B[38;5;28;01mimport\u001B[39;00m PersistenceManager\n\u001B[1;32m   1752\u001B[0m \u001B[38;5;28mself\u001B[39m\u001B[38;5;241m.\u001B[39m_persistence_layer: Optional[PersistenceManager] \u001B[38;5;241m=\u001B[39m PersistenceManager(document\u001B[38;5;241m=\u001B[39m\u001B[38;5;28mself\u001B[39m,\n\u001B[1;32m   1753\u001B[0m                                                                            filename\u001B[38;5;241m=\u001B[39mkddb_path,\n\u001B[1;32m   1754\u001B[0m                                                                            delete_on_close\u001B[38;5;241m=\u001B[39mdelete_on_close)\n\u001B[0;32m-> 1755\u001B[0m \u001B[38;5;28;43mself\u001B[39;49m\u001B[38;5;241;43m.\u001B[39;49m\u001B[43m_persistence_layer\u001B[49m\u001B[38;5;241;43m.\u001B[39;49m\u001B[43minitialize\u001B[49m\u001B[43m(\u001B[49m\u001B[43m)\u001B[49m\n",
      "File \u001B[0;32m~/src/kodexa/kodexa/kodexa/model/persistence.py:643\u001B[0m, in \u001B[0;36mPersistenceManager.initialize\u001B[0;34m(self)\u001B[0m\n\u001B[1;32m    642\u001B[0m \u001B[38;5;28;01mdef\u001B[39;00m \u001B[38;5;21minitialize\u001B[39m(\u001B[38;5;28mself\u001B[39m):\n\u001B[0;32m--> 643\u001B[0m     \u001B[38;5;28;43mself\u001B[39;49m\u001B[38;5;241;43m.\u001B[39;49m\u001B[43m_underlying_persistence\u001B[49m\u001B[38;5;241;43m.\u001B[39;49m\u001B[43minitialize\u001B[49m\u001B[43m(\u001B[49m\u001B[43m)\u001B[49m\n\u001B[1;32m    645\u001B[0m     \u001B[38;5;28mself\u001B[39m\u001B[38;5;241m.\u001B[39mnode_cache\u001B[38;5;241m.\u001B[39mnext_id \u001B[38;5;241m=\u001B[39m \u001B[38;5;28mself\u001B[39m\u001B[38;5;241m.\u001B[39m_underlying_persistence\u001B[38;5;241m.\u001B[39mget_next_node_id()\n",
      "File \u001B[0;32m~/src/kodexa/kodexa/kodexa/model/persistence.py:176\u001B[0m, in \u001B[0;36mSqliteDocumentPersistence.initialize\u001B[0;34m(self)\u001B[0m\n\u001B[1;32m    174\u001B[0m     \u001B[38;5;28mself\u001B[39m\u001B[38;5;241m.\u001B[39m__build_db()\n\u001B[1;32m    175\u001B[0m \u001B[38;5;28;01melse\u001B[39;00m:\n\u001B[0;32m--> 176\u001B[0m     \u001B[38;5;28;43mself\u001B[39;49m\u001B[38;5;241;43m.\u001B[39;49m\u001B[43m__load_document\u001B[49m\u001B[43m(\u001B[49m\u001B[43m)\u001B[49m\n",
      "File \u001B[0;32m~/src/kodexa/kodexa/kodexa/model/persistence.py:386\u001B[0m, in \u001B[0;36mSqliteDocumentPersistence.__load_document\u001B[0;34m(self)\u001B[0m\n\u001B[1;32m    373\u001B[0m \u001B[38;5;28mself\u001B[39m\u001B[38;5;241m.\u001B[39mcursor\u001B[38;5;241m.\u001B[39mexecute(\u001B[38;5;124m\"\"\"\u001B[39m\u001B[38;5;124mCREATE TABLE IF NOT EXISTS content_exceptions\u001B[39m\n\u001B[1;32m    374\u001B[0m \u001B[38;5;124m                            (\u001B[39m\n\u001B[1;32m    375\u001B[0m \u001B[38;5;124m                                id           integer primary key,\u001B[39m\n\u001B[0;32m   (...)\u001B[0m\n\u001B[1;32m    383\u001B[0m \u001B[38;5;124m                                node_uuid    text\u001B[39m\n\u001B[1;32m    384\u001B[0m \u001B[38;5;124m                            )\u001B[39m\u001B[38;5;124m\"\"\"\u001B[39m)\n\u001B[1;32m    385\u001B[0m \u001B[38;5;28mself\u001B[39m\u001B[38;5;241m.\u001B[39mdocument\u001B[38;5;241m.\u001B[39mversion \u001B[38;5;241m=\u001B[39m \u001B[38;5;124m\"\u001B[39m\u001B[38;5;124m4.0.2\u001B[39m\u001B[38;5;124m\"\u001B[39m\n\u001B[0;32m--> 386\u001B[0m \u001B[38;5;28;43mself\u001B[39;49m\u001B[38;5;241;43m.\u001B[39;49m\u001B[43mupdate_metadata\u001B[49m\u001B[43m(\u001B[49m\u001B[43m)\u001B[49m\n",
      "File \u001B[0;32m~/src/kodexa/kodexa/kodexa/model/persistence.py:450\u001B[0m, in \u001B[0;36mSqliteDocumentPersistence.update_metadata\u001B[0;34m(self)\u001B[0m\n\u001B[1;32m    449\u001B[0m \u001B[38;5;28;01mdef\u001B[39;00m \u001B[38;5;21mupdate_metadata\u001B[39m(\u001B[38;5;28mself\u001B[39m):\n\u001B[0;32m--> 450\u001B[0m     \u001B[38;5;28;43mself\u001B[39;49m\u001B[38;5;241;43m.\u001B[39;49m\u001B[43m__update_metadata\u001B[49m\u001B[43m(\u001B[49m\u001B[43m)\u001B[49m\n",
      "File \u001B[0;32m~/src/kodexa/kodexa/kodexa/model/persistence.py:318\u001B[0m, in \u001B[0;36mSqliteDocumentPersistence.__update_metadata\u001B[0;34m(self)\u001B[0m\n\u001B[1;32m    309\u001B[0m \u001B[38;5;28;01mdef\u001B[39;00m \u001B[38;5;21m__update_metadata\u001B[39m(\u001B[38;5;28mself\u001B[39m):\n\u001B[1;32m    310\u001B[0m     document_metadata \u001B[38;5;241m=\u001B[39m {\u001B[38;5;124m'\u001B[39m\u001B[38;5;124mversion\u001B[39m\u001B[38;5;124m'\u001B[39m: Document\u001B[38;5;241m.\u001B[39mCURRENT_VERSION,\n\u001B[1;32m    311\u001B[0m                          \u001B[38;5;124m'\u001B[39m\u001B[38;5;124mmetadata\u001B[39m\u001B[38;5;124m'\u001B[39m: \u001B[38;5;28mself\u001B[39m\u001B[38;5;241m.\u001B[39mdocument\u001B[38;5;241m.\u001B[39mmetadata\u001B[38;5;241m.\u001B[39mto_dict(),\n\u001B[1;32m    312\u001B[0m                          \u001B[38;5;124m'\u001B[39m\u001B[38;5;124msource\u001B[39m\u001B[38;5;124m'\u001B[39m: \u001B[38;5;28mself\u001B[39m\u001B[38;5;241m.\u001B[39m__clean_none_values(dataclasses\u001B[38;5;241m.\u001B[39masdict(\u001B[38;5;28mself\u001B[39m\u001B[38;5;241m.\u001B[39mdocument\u001B[38;5;241m.\u001B[39msource)),\n\u001B[0;32m   (...)\u001B[0m\n\u001B[1;32m    316\u001B[0m                          \u001B[38;5;124m'\u001B[39m\u001B[38;5;124mlabels\u001B[39m\u001B[38;5;124m'\u001B[39m: \u001B[38;5;28mself\u001B[39m\u001B[38;5;241m.\u001B[39mdocument\u001B[38;5;241m.\u001B[39mlabels,\n\u001B[1;32m    317\u001B[0m                          \u001B[38;5;124m'\u001B[39m\u001B[38;5;124muuid\u001B[39m\u001B[38;5;124m'\u001B[39m: \u001B[38;5;28mself\u001B[39m\u001B[38;5;241m.\u001B[39mdocument\u001B[38;5;241m.\u001B[39muuid}\n\u001B[0;32m--> 318\u001B[0m     \u001B[38;5;28;43mself\u001B[39;49m\u001B[38;5;241;43m.\u001B[39;49m\u001B[43mcursor\u001B[49m\u001B[38;5;241;43m.\u001B[39;49m\u001B[43mexecute\u001B[49m\u001B[43m(\u001B[49m\u001B[43mMETADATA_DELETE\u001B[49m\u001B[43m)\u001B[49m\n\u001B[1;32m    319\u001B[0m     \u001B[38;5;28mself\u001B[39m\u001B[38;5;241m.\u001B[39mcursor\u001B[38;5;241m.\u001B[39mexecute(METADATA_INSERT, [sqlite3\u001B[38;5;241m.\u001B[39mBinary(msgpack\u001B[38;5;241m.\u001B[39mpackb(document_metadata, use_bin_type\u001B[38;5;241m=\u001B[39m\u001B[38;5;28;01mTrue\u001B[39;00m))])\n",
      "\u001B[0;31mOperationalError\u001B[0m: database is locked"
     ]
    }
   ],
   "source": [
    "detached_document = Document.from_kddb('my-document.kddb', detached=True)"
   ],
   "metadata": {
    "collapsed": false
   }
  },
  {
   "cell_type": "markdown",
   "source": [
    "# Anatomy of a Document\n",
    "\n",
    "The Document class manages several key peices of information:\n",
    "\n",
    "## Metadata\n",
    "\n",
    "Metadata about the document, such as the source, the title, the author, etc. This is simply a dictionary.\n"
   ],
   "metadata": {
    "collapsed": false
   }
  },
  {
   "cell_type": "code",
   "execution_count": null,
   "outputs": [],
   "source": [
    "print(my_document.metadata)"
   ],
   "metadata": {
    "collapsed": false
   }
  },
  {
   "cell_type": "markdown",
   "source": [
    "## SourceMetadata\n",
    "\n",
    "Metadata about the source document. This works with the connectors to allow you to get the original\n",
    "source document."
   ],
   "metadata": {
    "collapsed": false
   }
  },
  {
   "cell_type": "code",
   "execution_count": null,
   "outputs": [],
   "source": [
    "print(my_document.source)"
   ],
   "metadata": {
    "collapsed": false
   }
  },
  {
   "cell_type": "markdown",
   "source": [],
   "metadata": {
    "collapsed": false
   }
  }
 ],
 "metadata": {
  "kernelspec": {
   "display_name": "Python 3",
   "language": "python",
   "name": "python3"
  },
  "language_info": {
   "codemirror_mode": {
    "name": "ipython",
    "version": 2
   },
   "file_extension": ".py",
   "mimetype": "text/x-python",
   "name": "python",
   "nbconvert_exporter": "python",
   "pygments_lexer": "ipython2",
   "version": "2.7.6"
  }
 },
 "nbformat": 4,
 "nbformat_minor": 0
}
