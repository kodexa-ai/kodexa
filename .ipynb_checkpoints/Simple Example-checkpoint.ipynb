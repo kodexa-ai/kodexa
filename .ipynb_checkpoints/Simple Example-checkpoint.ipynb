{
 "cells": [
  {
   "cell_type": "code",
   "execution_count": 1,
   "metadata": {},
   "outputs": [],
   "source": [
    "from kodexa import Document"
   ]
  },
  {
   "cell_type": "code",
   "execution_count": 4,
   "metadata": {},
   "outputs": [],
   "source": [
    "document = Document.from_kdxa('test_documents/news.mdoc')"
   ]
  },
  {
   "cell_type": "code",
   "execution_count": 6,
   "metadata": {},
   "outputs": [
    {
     "data": {
      "text/html": [
       "<h3>Content Node</h3><p>[type:container][tags:]\n",
       "\n",
       "None\n",
       "    [type:div][tags:]\n",
       "    \n",
       "    None\n",
       "        [type:div][tags:]\n",
       "        \n",
       "        None\n",
       "            [type:span][tags:]\n",
       "            None\n",
       "            [type:div][tags:]\n",
       "            \n",
       "            None\n",
       "                [type:div][tags:]\n",
       "                \n",
       "                None\n",
       "                    [type:div][tags:]\n",
       "                    \n",
       "                    None\n",
       "                        [type:p][tags:]\n",
       "                        HSBC logo is displayed outside a branch of in the United Kingdom.\n",
       "                        HSBC logo is displayed outside a branch of in the United Kingdom.\n",
       "                        [type:p][tags:]\n",
       "                        Matt Cardy | Getty Images\n",
       "                        Matt Cardy | Getty Images\n",
       "            [type:div][tags:]\n",
       "            \n",
       "            None\n",
       "                [type:p][tags:]\n",
       "                 on Tuesday reported pre-tax profit that missed analysts' expectations after the bank took a goodwill impairment relating to its European investment banking and commercial banking businesses.\n",
       "                 on Tuesday reported pre-tax profit that missed analysts' expectations after the bank took a goodwill impairment relating to its European investment banking and commercial banking businesses.\n",
       "                    [type:a][tags:]\n",
       "                    HSBC\n",
       "                    HSBC\n",
       "                [type:p][tags:]\n",
       "                The bank, Europe's largest by assets, also announced a major overhaul that would see the total number of staff reduced from 235,000 to around 200,000 over the next three years. \n",
       "                The bank, Europe's largest by assets, also announced a major overhaul that would see the total number of staff reduced from 235,000 to around 200,000 over the next three years. \n",
       "                [type:p][tags:]\n",
       "                None\n",
       "                [type:p][tags:]\n",
       "                HSBC recorded a 32.9% fall in pre-tax profit for 2019 to $13.35 billion, much lower than Refinitiv forecast of $19.83 billion.\n",
       "                HSBC recorded a 32.9% fall in pre-tax profit for 2019 to $13.35 billion, much lower than Refinitiv forecast of $19.83 billion.\n",
       "                [type:p][tags:]\n",
       "                In a statement accompanying the earnings release, Quinn said the $7.3 billion goodwill impairment in Europe \"arose from an update to long-term economic growth assumptions, which impacted a number of our businesses,\" and from the \"planned reshaping\" of the bank's global banking and markets business.\n",
       "                In a statement accompanying the earnings release, Quinn said the $7.3 billion goodwill impairment in Europe \"arose from an update to long-term economic growth assumptions, which impacted a number of our businesses,\" and from the \"planned reshaping\" of the bank's global banking and markets business.\n",
       "                [type:p][tags:]\n",
       "                The write-down resulted in a pre-tax loss of $4.65 billion in the bank's European business.\n",
       "                The write-down resulted in a pre-tax loss of $4.65 billion in the bank's European business.\n",
       "                [type:p][tags:]\n",
       "                In terms of HSBC's business in Asia, where the bank derives the bulk of its earnings, Quinn warned of pressure from the ongoing coronavirus outbreak.\n",
       "                In terms of HSBC's business in Asia, where the bank derives the bulk of its earnings, Quinn warned of pressure from the ongoing coronavirus outbreak.\n",
       "                [type:p][tags:]\n",
       "                \"Since the start of January, the coronavirus outbreak has created significant disruption for our staff, suppliers and customers, particularly in mainland China and Hong Kong,\" he said.\n",
       "                \"Since the start of January, the coronavirus outbreak has created significant disruption for our staff, suppliers and customers, particularly in mainland China and Hong Kong,\" he said.\n",
       "                [type:p][tags:]\n",
       "                None\n",
       "                [type:p][tags:]\n",
       "                \"Depending on how the situation develops, there is the potential for any associated economic slowdown to impact our expected credit losses in Hong Kong and mainland China,\" he added. \"Longer term, it is also possible that we may see revenue reductions from lower lending and transaction volumes, and further credit losses stemming from disruption to customer supply chains.\"\n",
       "                \"Depending on how the situation develops, there is the potential for any associated economic slowdown to impact our expected credit losses in Hong Kong and mainland China,\" he added. \"Longer term, it is also possible that we may see revenue reductions from lower lending and transaction volumes, and further credit losses stemming from disruption to customer supply chains.\"\n",
       "                [type:p][tags:]\n",
       "                The London-headquartered bank is a heavyweight component of the . HSBC shares in Hong Kong closed 2.78% lower.\n",
       "                The London-headquartered bank is a heavyweight component of the  . HSBC shares in Hong Kong closed 2.78% lower.\n",
       "                    [type:a][tags:]\n",
       "                    Hang Seng Index\n",
       "                    Hang Seng Index\n",
       "                [type:p][tags:]\n",
       "                Here are other financial metrics that investors were looking out for:\n",
       "                Here are other financial metrics that investors were looking out for:\n",
       "                [type:ul][tags:]\n",
       "                \n",
       "                None\n",
       "                    [type:li][tags:]\n",
       "                    Revenue for 2019 increased by 4.3% from a year ago to $56.1 billion\n",
       "                    Revenue for 2019 increased by 4.3% from a year ago to $56.1 billion\n",
       "                    [type:li][tags:]\n",
       "                    Operating expenses were up 22.2% to $42.35 billion, mainly due to the goodwill impairment\n",
       "                    Operating expenses were up 22.2% to $42.35 billion, mainly due to the goodwill impairment\n",
       "                    [type:li][tags:]\n",
       "                    Earnings per share was $0.30\n",
       "                    Earnings per share was $0.30\n",
       "            [type:h2][tags:]\n",
       "            HSBC's restructuring plan\n",
       "            HSBC's restructuring plan\n",
       "            [type:div][tags:]\n",
       "            \n",
       "            None\n",
       "                [type:p][tags:]\n",
       "                Along with the earnings release, HSBC also outlined its business strategy.\n",
       "                Along with the earnings release, HSBC also outlined its business strategy.\n",
       "                [type:p][tags:]\n",
       "                The bank said it plans to suspend share buy-backs for 2020 and 2021 as it undertakes a \"high level of restructuring\" over the next two years.\n",
       "                The bank said it plans to suspend share buy-backs for 2020 and 2021 as it undertakes a \"high level of restructuring\" over the next two years.\n",
       "                [type:p][tags:]\n",
       "                HSBC's planned restructuring, which is expected to see a reduction in headcount by around 35,000, include:\n",
       "                HSBC's planned restructuring, which is expected to see a reduction in headcount by around 35,000, include:\n",
       "                [type:ul][tags:]\n",
       "                \n",
       "                None\n",
       "                    [type:li][tags:]\n",
       "                    European business: To reduce sales and trading, and equity research in Europe; transition structured products capabilities from the U.K. to Asia\n",
       "                    European business: To reduce sales and trading, and equity research in Europe; transition structured products capabilities from the U.K. to Asia\n",
       "                    [type:li][tags:]\n",
       "                    U.S. business: To reduce branch network by 30% and re-position as an \"international client-focused corporate bank,\" with targeted retail offering\n",
       "                    U.S. business: To reduce branch network by 30% and re-position as an \"international client-focused corporate bank,\" with targeted retail offering\n",
       "                    [type:li][tags:]\n",
       "                    Global banking and markets: To shift more resources to Asia and the Middle East, while maintaining global investment banking hub in London\n",
       "                    Global banking and markets: To shift more resources to Asia and the Middle East, while maintaining global investment banking hub in London\n",
       "                    [type:li][tags:]\n",
       "                    Group level: To consolidate retail banking and wealth management, and global private banking into a new division called wealth and personal banking\n",
       "                    Group level: To consolidate retail banking and wealth management, and global private banking into a new division called wealth and personal banking\n",
       "            [type:p][tags:]\n",
       "            None"
      ],
      "text/plain": [
       "<kodexa.model.model.ContentNode at 0x7fa690295a10>"
      ]
     },
     "execution_count": 6,
     "metadata": {},
     "output_type": "execute_result"
    }
   ],
   "source": [
    "document.content_node"
   ]
  }
 ],
 "metadata": {
  "kernelspec": {
   "display_name": "Python 3",
   "language": "python",
   "name": "python3"
  },
  "language_info": {
   "codemirror_mode": {
    "name": "ipython",
    "version": 3
   },
   "file_extension": ".py",
   "mimetype": "text/x-python",
   "name": "python",
   "nbconvert_exporter": "python",
   "pygments_lexer": "ipython3",
   "version": "3.7.6"
  }
 },
 "nbformat": 4,
 "nbformat_minor": 4
}
